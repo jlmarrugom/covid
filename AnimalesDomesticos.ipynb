{
  "nbformat": 4,
  "nbformat_minor": 0,
  "metadata": {
    "colab": {
      "name": "AnimalesDomesticos.ipynb",
      "provenance": [],
      "mount_file_id": "1oGxdxQ-yBvi4KknDccbnblUJGTAWlDsT",
      "authorship_tag": "ABX9TyPOpm7VWYBUE1F3H2TVXQT3",
      "include_colab_link": true
    },
    "kernelspec": {
      "name": "python3",
      "display_name": "Python 3"
    },
    "language_info": {
      "name": "python"
    }
  },
  "cells": [
    {
      "cell_type": "markdown",
      "metadata": {
        "id": "view-in-github",
        "colab_type": "text"
      },
      "source": [
        "<a href=\"https://colab.research.google.com/github/jlmarrugom/covid/blob/main/AnimalesDomesticos.ipynb\" target=\"_parent\"><img src=\"https://colab.research.google.com/assets/colab-badge.svg\" alt=\"Open In Colab\"/></a>"
      ]
    },
    {
      "cell_type": "code",
      "metadata": {
        "id": "jnJbWLfUEF7a"
      },
      "source": [
        "import numpy as np\n",
        "import pandas as pd\n",
        "import matplotlib.pyplot as plt\n",
        "import folium  #needed for interactive map\n",
        "from folium.plugins import HeatMap"
      ],
      "execution_count": null,
      "outputs": []
    },
    {
      "cell_type": "code",
      "metadata": {
        "colab": {
          "base_uri": "https://localhost:8080/",
          "height": 231
        },
        "id": "w5qlCR-vENKL",
        "outputId": "b3b4a036-ef7e-402d-8dd8-05b324744009"
      },
      "source": [
        "pets =pd.read_excel('/content/drive/MyDrive/Covid UC/BASE DE DATOS ANIMALES DOMÉSTICOS_29-01-2021.xlsx',sheet_name='Hoja1')\n",
        "pets['Conteo']=1\n",
        "pets.head(3)"
      ],
      "execution_count": null,
      "outputs": [
        {
          "output_type": "execute_result",
          "data": {
            "text/html": [
              "<div>\n",
              "<style scoped>\n",
              "    .dataframe tbody tr th:only-of-type {\n",
              "        vertical-align: middle;\n",
              "    }\n",
              "\n",
              "    .dataframe tbody tr th {\n",
              "        vertical-align: top;\n",
              "    }\n",
              "\n",
              "    .dataframe thead th {\n",
              "        text-align: right;\n",
              "    }\n",
              "</style>\n",
              "<table border=\"1\" class=\"dataframe\">\n",
              "  <thead>\n",
              "    <tr style=\"text-align: right;\">\n",
              "      <th></th>\n",
              "      <th>Nro</th>\n",
              "      <th>FECHA TOMA DE MUESTRA D/M/A</th>\n",
              "      <th>CÓDIGO CAMPO</th>\n",
              "      <th>CODIGO IIBT</th>\n",
              "      <th>NOMBRE DEL PROPIETARIO</th>\n",
              "      <th>ID DEL ANIMAL</th>\n",
              "      <th>ESPECIE</th>\n",
              "      <th>SEXO</th>\n",
              "      <th>EDAD APROX.</th>\n",
              "      <th>HISOPADO OROFARINGEO</th>\n",
              "      <th>HISOPADO RECTAL</th>\n",
              "      <th>SANGRE</th>\n",
              "      <th>FECHA INICIO DE SINTOMAS PROPIETARIO</th>\n",
              "      <th>TELEFONO PROPIETARIO</th>\n",
              "      <th>MUNICIPIO</th>\n",
              "      <th>DIRECCIÓN</th>\n",
              "      <th>COORDENADAS</th>\n",
              "      <th>RESULTADO PCR</th>\n",
              "      <th>Conteo</th>\n",
              "    </tr>\n",
              "  </thead>\n",
              "  <tbody>\n",
              "    <tr>\n",
              "      <th>0</th>\n",
              "      <td>1</td>\n",
              "      <td>2020-09-15 00:00:00</td>\n",
              "      <td>CAT001</td>\n",
              "      <td>D01</td>\n",
              "      <td>LILIA HOYOS</td>\n",
              "      <td>TOM</td>\n",
              "      <td>FELINO</td>\n",
              "      <td>M</td>\n",
              "      <td>3 M</td>\n",
              "      <td>SI</td>\n",
              "      <td>NO</td>\n",
              "      <td>SI</td>\n",
              "      <td>NaT</td>\n",
              "      <td>NO REGISTRA</td>\n",
              "      <td>SAHAGÚN</td>\n",
              "      <td>NaN</td>\n",
              "      <td>NaN</td>\n",
              "      <td>NEGATIVO</td>\n",
              "      <td>1</td>\n",
              "    </tr>\n",
              "    <tr>\n",
              "      <th>1</th>\n",
              "      <td>2</td>\n",
              "      <td>2020-09-15 00:00:00</td>\n",
              "      <td>CAT002</td>\n",
              "      <td>D02</td>\n",
              "      <td>BEATRIZ HERRERA</td>\n",
              "      <td>MARIA PAULA</td>\n",
              "      <td>FELINO</td>\n",
              "      <td>H</td>\n",
              "      <td>4 A</td>\n",
              "      <td>SI</td>\n",
              "      <td>NO</td>\n",
              "      <td>SI</td>\n",
              "      <td>NaT</td>\n",
              "      <td>NO REGISTRA</td>\n",
              "      <td>SAHAGÚN</td>\n",
              "      <td>NaN</td>\n",
              "      <td>NaN</td>\n",
              "      <td>NEGATIVO</td>\n",
              "      <td>1</td>\n",
              "    </tr>\n",
              "    <tr>\n",
              "      <th>2</th>\n",
              "      <td>3</td>\n",
              "      <td>2020-09-15 00:00:00</td>\n",
              "      <td>CAT003</td>\n",
              "      <td>D03</td>\n",
              "      <td>ANA KARINA OYOLA</td>\n",
              "      <td>ALEJANDRA</td>\n",
              "      <td>FELINO</td>\n",
              "      <td>H</td>\n",
              "      <td>3 M</td>\n",
              "      <td>SI</td>\n",
              "      <td>NO</td>\n",
              "      <td>SI</td>\n",
              "      <td>NaT</td>\n",
              "      <td>NO REGISTRA</td>\n",
              "      <td>SAHAGÚN</td>\n",
              "      <td>NaN</td>\n",
              "      <td>NaN</td>\n",
              "      <td>NEGATIVO</td>\n",
              "      <td>1</td>\n",
              "    </tr>\n",
              "  </tbody>\n",
              "</table>\n",
              "</div>"
            ],
            "text/plain": [
              "   Nro FECHA TOMA DE MUESTRA D/M/A  ... RESULTADO PCR Conteo\n",
              "0    1         2020-09-15 00:00:00  ...      NEGATIVO      1\n",
              "1    2         2020-09-15 00:00:00  ...      NEGATIVO      1\n",
              "2    3         2020-09-15 00:00:00  ...      NEGATIVO      1\n",
              "\n",
              "[3 rows x 19 columns]"
            ]
          },
          "metadata": {
            "tags": []
          },
          "execution_count": 3
        }
      ]
    },
    {
      "cell_type": "code",
      "metadata": {
        "colab": {
          "base_uri": "https://localhost:8080/"
        },
        "id": "W_Pkeyc82f5T",
        "outputId": "f5224285-1b66-4ccf-90c9-a8ea7dd19f1c"
      },
      "source": [
        "pets['MUNICIPIO'].value_counts(),pets['RESULTADO PCR'].value_counts()"
      ],
      "execution_count": null,
      "outputs": [
        {
          "output_type": "execute_result",
          "data": {
            "text/plain": [
              "(CERETE          42\n",
              " PLANETA RICA    39\n",
              " SAHAGÚN         29\n",
              " LORICA          25\n",
              " TIERRALTA       23\n",
              " SAN ANTERO      20\n",
              " MONTERIA        16\n",
              " MONTELIBANO     13\n",
              " Name: MUNICIPIO, dtype: int64, NEGATIVO    206\n",
              " POSITIVO      1\n",
              " Name: RESULTADO PCR, dtype: int64)"
            ]
          },
          "metadata": {
            "tags": []
          },
          "execution_count": 9
        }
      ]
    },
    {
      "cell_type": "code",
      "metadata": {
        "id": "K7zfu_hKFGn2",
        "colab": {
          "base_uri": "https://localhost:8080/"
        },
        "cellView": "form",
        "outputId": "72bdca70-f8f9-4831-f4e3-1fa0849343e4"
      },
      "source": [
        "#@title Georeferenciación\n",
        "pets['lat']=0\n",
        "pets['lon']=0\n",
        "pets['lat'].loc[pets['MUNICIPIO']=='LORICA'] = 9.2394583\n",
        "pets['lon'].loc[pets['MUNICIPIO']=='LORICA'] = -75.8139786\n",
        "\n",
        "pets['lat'].loc[pets['MUNICIPIO']=='PLANETA RICA'] = 8.4076739 \n",
        "pets['lon'].loc[pets['MUNICIPIO']=='PLANETA RICA'] = -75.5840456 \n",
        "\n",
        "pets['lat'].loc[pets['MUNICIPIO']=='TIERRALTA '] = 8.1717342\n",
        "pets['lon'].loc[pets['MUNICIPIO']=='TIERRALTA '] = -76.059376\n",
        "\n",
        "pets['lat'].loc[pets['MUNICIPIO']=='SAHAGÚN'] = 8.9472964\n",
        "pets['lon'].loc[pets['MUNICIPIO']=='SAHAGÚN'] = -75.4434972\n",
        "\n",
        "pets['lat'].loc[pets['MUNICIPIO']=='MONTELIBANO'] = 7.9800534\n",
        "pets['lon'].loc[pets['MUNICIPIO']=='MONTELIBANO'] = -75.4167198\n",
        "\n",
        "pets['lat'].loc[pets['MUNICIPIO']=='CERETE'] = 8.8852282\n",
        "pets['lon'].loc[pets['MUNICIPIO']=='CERETE'] = -75.7922421\n",
        "\n",
        "pets['lat'].loc[pets['MUNICIPIO']=='SAN ANTERO'] = 9.373016\n",
        "pets['lon'].loc[pets['MUNICIPIO']=='SAN ANTERO'] = -75.7595056\n",
        "\n",
        "pets['lat'].loc[pets['MUNICIPIO']=='MONTERIA'] = 8.7558921\n",
        "pets['lon'].loc[pets['MUNICIPIO']=='MONTERIA'] = -75.887029"
      ],
      "execution_count": null,
      "outputs": [
        {
          "output_type": "stream",
          "text": [
            "/usr/local/lib/python3.7/dist-packages/pandas/core/indexing.py:670: SettingWithCopyWarning: \n",
            "A value is trying to be set on a copy of a slice from a DataFrame\n",
            "\n",
            "See the caveats in the documentation: https://pandas.pydata.org/pandas-docs/stable/user_guide/indexing.html#returning-a-view-versus-a-copy\n",
            "  iloc._setitem_with_indexer(indexer, value)\n"
          ],
          "name": "stderr"
        }
      ]
    },
    {
      "cell_type": "code",
      "metadata": {
        "colab": {
          "base_uri": "https://localhost:8080/",
          "height": 277
        },
        "id": "1rjFIjW-37vy",
        "cellView": "form",
        "outputId": "759b7e3c-c5bf-4053-d219-49d5004e2269"
      },
      "source": [
        "#@title Tabla para Mapa\n",
        "df = pets.copy(deep=True)\n",
        "# max_amount = float(df['export_val'].max())\n",
        "df = df[['lat','lon','MUNICIPIO']].groupby('MUNICIPIO').max()\n",
        "df = df.merge(pets[['RESULTADO PCR','MUNICIPIO']].loc[pets['RESULTADO PCR']=='POSITIVO'].groupby(['MUNICIPIO']).count() ,how='outer',on='MUNICIPIO')\n",
        "df = df.merge(pets[['RESULTADO PCR','MUNICIPIO']].groupby(['MUNICIPIO']).count() ,how='outer',on='MUNICIPIO')\n",
        "df = df.merge(pets[['ESPECIE','MUNICIPIO']].groupby(['MUNICIPIO']).agg(lambda x:x.value_counts().index[0]) ,how='inner',on='MUNICIPIO')\n",
        "df = df.merge(pets[['SEXO','MUNICIPIO']].groupby(['MUNICIPIO']).agg(lambda x:x.value_counts().index[0]) ,how='inner',on='MUNICIPIO')\n",
        "df = df.merge(pets[['EDAD APROX.','MUNICIPIO']].groupby(['MUNICIPIO']).agg(lambda x:x.value_counts().index[0]) ,how='inner',on='MUNICIPIO')\n",
        "\n",
        "\n",
        "#df = df.merge(pets[['RESULTADO PCR','MUNICIPIO']].loc[pets['RESULTADO PCR']=='POSITIVO'].groupby(['MUNICIPIO']).agg(lambda x:x.value_counts().index[0])\n",
        "\n",
        "df = df.reset_index()\n",
        "df"
      ],
      "execution_count": null,
      "outputs": [
        {
          "output_type": "execute_result",
          "data": {
            "text/html": [
              "<div>\n",
              "<style scoped>\n",
              "    .dataframe tbody tr th:only-of-type {\n",
              "        vertical-align: middle;\n",
              "    }\n",
              "\n",
              "    .dataframe tbody tr th {\n",
              "        vertical-align: top;\n",
              "    }\n",
              "\n",
              "    .dataframe thead th {\n",
              "        text-align: right;\n",
              "    }\n",
              "</style>\n",
              "<table border=\"1\" class=\"dataframe\">\n",
              "  <thead>\n",
              "    <tr style=\"text-align: right;\">\n",
              "      <th></th>\n",
              "      <th>MUNICIPIO</th>\n",
              "      <th>lat</th>\n",
              "      <th>lon</th>\n",
              "      <th>RESULTADO PCR_x</th>\n",
              "      <th>RESULTADO PCR_y</th>\n",
              "      <th>ESPECIE</th>\n",
              "      <th>SEXO</th>\n",
              "      <th>EDAD APROX.</th>\n",
              "    </tr>\n",
              "  </thead>\n",
              "  <tbody>\n",
              "    <tr>\n",
              "      <th>0</th>\n",
              "      <td>CERETE</td>\n",
              "      <td>8.885228</td>\n",
              "      <td>-75.792242</td>\n",
              "      <td>NaN</td>\n",
              "      <td>42</td>\n",
              "      <td>FELINO</td>\n",
              "      <td>H</td>\n",
              "      <td>NR</td>\n",
              "    </tr>\n",
              "    <tr>\n",
              "      <th>1</th>\n",
              "      <td>LORICA</td>\n",
              "      <td>9.239458</td>\n",
              "      <td>-75.813979</td>\n",
              "      <td>NaN</td>\n",
              "      <td>25</td>\n",
              "      <td>FELINO</td>\n",
              "      <td>M</td>\n",
              "      <td>2 A</td>\n",
              "    </tr>\n",
              "    <tr>\n",
              "      <th>2</th>\n",
              "      <td>MONTELIBANO</td>\n",
              "      <td>7.980053</td>\n",
              "      <td>-75.416720</td>\n",
              "      <td>NaN</td>\n",
              "      <td>13</td>\n",
              "      <td>FELINO</td>\n",
              "      <td>H</td>\n",
              "      <td>1 A</td>\n",
              "    </tr>\n",
              "    <tr>\n",
              "      <th>3</th>\n",
              "      <td>MONTERIA</td>\n",
              "      <td>8.755892</td>\n",
              "      <td>-75.887029</td>\n",
              "      <td>1.0</td>\n",
              "      <td>16</td>\n",
              "      <td>FELINO</td>\n",
              "      <td>H</td>\n",
              "      <td>1 A</td>\n",
              "    </tr>\n",
              "    <tr>\n",
              "      <th>4</th>\n",
              "      <td>PLANETA RICA</td>\n",
              "      <td>8.407674</td>\n",
              "      <td>-75.584046</td>\n",
              "      <td>NaN</td>\n",
              "      <td>39</td>\n",
              "      <td>FELINO</td>\n",
              "      <td>M</td>\n",
              "      <td>2 A</td>\n",
              "    </tr>\n",
              "    <tr>\n",
              "      <th>5</th>\n",
              "      <td>SAHAGÚN</td>\n",
              "      <td>8.947296</td>\n",
              "      <td>-75.443497</td>\n",
              "      <td>NaN</td>\n",
              "      <td>29</td>\n",
              "      <td>FELINO</td>\n",
              "      <td>M</td>\n",
              "      <td>3 A</td>\n",
              "    </tr>\n",
              "    <tr>\n",
              "      <th>6</th>\n",
              "      <td>SAN ANTERO</td>\n",
              "      <td>9.373016</td>\n",
              "      <td>-75.759506</td>\n",
              "      <td>NaN</td>\n",
              "      <td>20</td>\n",
              "      <td>FELINO</td>\n",
              "      <td>M</td>\n",
              "      <td>3 M</td>\n",
              "    </tr>\n",
              "    <tr>\n",
              "      <th>7</th>\n",
              "      <td>TIERRALTA</td>\n",
              "      <td>8.171734</td>\n",
              "      <td>-76.059376</td>\n",
              "      <td>NaN</td>\n",
              "      <td>23</td>\n",
              "      <td>FELINO</td>\n",
              "      <td>M</td>\n",
              "      <td>1 A</td>\n",
              "    </tr>\n",
              "  </tbody>\n",
              "</table>\n",
              "</div>"
            ],
            "text/plain": [
              "      MUNICIPIO       lat        lon  ...  ESPECIE  SEXO EDAD APROX.\n",
              "0        CERETE  8.885228 -75.792242  ...   FELINO     H          NR\n",
              "1        LORICA  9.239458 -75.813979  ...   FELINO     M         2 A\n",
              "2   MONTELIBANO  7.980053 -75.416720  ...   FELINO     H         1 A\n",
              "3      MONTERIA  8.755892 -75.887029  ...   FELINO     H         1 A\n",
              "4  PLANETA RICA  8.407674 -75.584046  ...   FELINO     M         2 A\n",
              "5       SAHAGÚN  8.947296 -75.443497  ...   FELINO     M         3 A\n",
              "6    SAN ANTERO  9.373016 -75.759506  ...   FELINO     M         3 M\n",
              "7    TIERRALTA   8.171734 -76.059376  ...   FELINO    M          1 A\n",
              "\n",
              "[8 rows x 8 columns]"
            ]
          },
          "metadata": {
            "tags": []
          },
          "execution_count": 40
        }
      ]
    },
    {
      "cell_type": "code",
      "metadata": {
        "colab": {
          "base_uri": "https://localhost:8080/",
          "height": 521
        },
        "id": "PEzFCpuO4UX9",
        "outputId": "fb92306c-b86b-4056-e092-262f7014845e"
      },
      "source": [
        "#@title #Conteo por Municipio\n",
        "folium_hmap = folium.Figure(width=1000, height=500)\n",
        "m = folium.Map(location=[8.3344713,-75.6666238],\n",
        "                         width='100%',\n",
        "                         height='100%',\n",
        "                         zoom_start=8,#Por defecto es 10\n",
        "                         tiles=\"OpenStreetMap\").add_to(folium_hmap)\n",
        "\n",
        "#folium_hmap.fit_bounds([[6.4, -78], [10.4, -73]])\n",
        "data = df\n",
        "for i in range(0,len(data)):\n",
        "   folium.Circle(\n",
        "      location=[data.iloc[i]['lat'], data.iloc[i]['lon']],\n",
        "      popup=str(data.iloc[i]['MUNICIPIO'])+\n",
        "      '\\nTotal de Pruebas Realizadas: \\n'+\n",
        "      str(data.iloc[i]['RESULTADO PCR_y'])+\n",
        "      '\\nPositivas: \\n'+\n",
        "      str(data.iloc[i]['RESULTADO PCR_x']),\n",
        "      radius=float(data.iloc[i]['RESULTADO PCR_y'])*300,\n",
        "      color='blue',\n",
        "      fill=True,\n",
        "      fill_color='blue'\n",
        "   ).add_to(m)\n",
        "\n",
        "folium_hmap"
      ],
      "execution_count": null,
      "outputs": [
        {
          "output_type": "execute_result",
          "data": {
            "text/html": [
              "<iframe src=\"about:blank\" width=\"1000\" height=\"500\"style=\"border:none !important;\" data-html=%3C%21DOCTYPE%20html%3E%0A%3Chead%3E%20%20%20%20%0A%20%20%20%20%3Cmeta%20http-equiv%3D%22content-type%22%20content%3D%22text/html%3B%20charset%3DUTF-8%22%20/%3E%0A%20%20%20%20%3Cscript%3EL_PREFER_CANVAS%3Dfalse%3B%20L_NO_TOUCH%3Dfalse%3B%20L_DISABLE_3D%3Dfalse%3B%3C/script%3E%0A%20%20%20%20%3Cscript%20src%3D%22https%3A//cdn.jsdelivr.net/npm/leaflet%401.4.0/dist/leaflet.js%22%3E%3C/script%3E%0A%20%20%20%20%3Cscript%20src%3D%22https%3A//code.jquery.com/jquery-1.12.4.min.js%22%3E%3C/script%3E%0A%20%20%20%20%3Cscript%20src%3D%22https%3A//maxcdn.bootstrapcdn.com/bootstrap/3.2.0/js/bootstrap.min.js%22%3E%3C/script%3E%0A%20%20%20%20%3Cscript%20src%3D%22https%3A//cdnjs.cloudflare.com/ajax/libs/Leaflet.awesome-markers/2.0.2/leaflet.awesome-markers.js%22%3E%3C/script%3E%0A%20%20%20%20%3Clink%20rel%3D%22stylesheet%22%20href%3D%22https%3A//cdn.jsdelivr.net/npm/leaflet%401.4.0/dist/leaflet.css%22/%3E%0A%20%20%20%20%3Clink%20rel%3D%22stylesheet%22%20href%3D%22https%3A//maxcdn.bootstrapcdn.com/bootstrap/3.2.0/css/bootstrap.min.css%22/%3E%0A%20%20%20%20%3Clink%20rel%3D%22stylesheet%22%20href%3D%22https%3A//maxcdn.bootstrapcdn.com/bootstrap/3.2.0/css/bootstrap-theme.min.css%22/%3E%0A%20%20%20%20%3Clink%20rel%3D%22stylesheet%22%20href%3D%22https%3A//maxcdn.bootstrapcdn.com/font-awesome/4.6.3/css/font-awesome.min.css%22/%3E%0A%20%20%20%20%3Clink%20rel%3D%22stylesheet%22%20href%3D%22https%3A//cdnjs.cloudflare.com/ajax/libs/Leaflet.awesome-markers/2.0.2/leaflet.awesome-markers.css%22/%3E%0A%20%20%20%20%3Clink%20rel%3D%22stylesheet%22%20href%3D%22https%3A//rawcdn.githack.com/python-visualization/folium/master/folium/templates/leaflet.awesome.rotate.css%22/%3E%0A%20%20%20%20%3Cstyle%3Ehtml%2C%20body%20%7Bwidth%3A%20100%25%3Bheight%3A%20100%25%3Bmargin%3A%200%3Bpadding%3A%200%3B%7D%3C/style%3E%0A%20%20%20%20%3Cstyle%3E%23map%20%7Bposition%3Aabsolute%3Btop%3A0%3Bbottom%3A0%3Bright%3A0%3Bleft%3A0%3B%7D%3C/style%3E%0A%20%20%20%20%0A%20%20%20%20%3Cmeta%20name%3D%22viewport%22%20content%3D%22width%3Ddevice-width%2C%0A%20%20%20%20%20%20%20%20initial-scale%3D1.0%2C%20maximum-scale%3D1.0%2C%20user-scalable%3Dno%22%20/%3E%0A%20%20%20%20%3Cstyle%3E%23map_23836311e3fd411c8485d6e8b14793dd%20%7B%0A%20%20%20%20%20%20%20%20position%3A%20relative%3B%0A%20%20%20%20%20%20%20%20width%3A%20100.0%25%3B%0A%20%20%20%20%20%20%20%20height%3A%20100.0%25%3B%0A%20%20%20%20%20%20%20%20left%3A%200.0%25%3B%0A%20%20%20%20%20%20%20%20top%3A%200.0%25%3B%0A%20%20%20%20%20%20%20%20%7D%0A%20%20%20%20%3C/style%3E%0A%3C/head%3E%0A%3Cbody%3E%20%20%20%20%0A%20%20%20%20%0A%20%20%20%20%3Cdiv%20class%3D%22folium-map%22%20id%3D%22map_23836311e3fd411c8485d6e8b14793dd%22%20%3E%3C/div%3E%0A%3C/body%3E%0A%3Cscript%3E%20%20%20%20%0A%20%20%20%20%0A%20%20%20%20%0A%20%20%20%20%20%20%20%20var%20bounds%20%3D%20null%3B%0A%20%20%20%20%0A%0A%20%20%20%20var%20map_23836311e3fd411c8485d6e8b14793dd%20%3D%20L.map%28%0A%20%20%20%20%20%20%20%20%27map_23836311e3fd411c8485d6e8b14793dd%27%2C%20%7B%0A%20%20%20%20%20%20%20%20center%3A%20%5B8.3344713%2C%20-75.6666238%5D%2C%0A%20%20%20%20%20%20%20%20zoom%3A%208%2C%0A%20%20%20%20%20%20%20%20maxBounds%3A%20bounds%2C%0A%20%20%20%20%20%20%20%20layers%3A%20%5B%5D%2C%0A%20%20%20%20%20%20%20%20worldCopyJump%3A%20false%2C%0A%20%20%20%20%20%20%20%20crs%3A%20L.CRS.EPSG3857%2C%0A%20%20%20%20%20%20%20%20zoomControl%3A%20true%2C%0A%20%20%20%20%20%20%20%20%7D%29%3B%0A%0A%0A%20%20%20%20%0A%20%20%20%20var%20tile_layer_1f7b15f008df4ac1beda23d3bc6676ca%20%3D%20L.tileLayer%28%0A%20%20%20%20%20%20%20%20%27https%3A//%7Bs%7D.tile.openstreetmap.org/%7Bz%7D/%7Bx%7D/%7By%7D.png%27%2C%0A%20%20%20%20%20%20%20%20%7B%0A%20%20%20%20%20%20%20%20%22attribution%22%3A%20null%2C%0A%20%20%20%20%20%20%20%20%22detectRetina%22%3A%20false%2C%0A%20%20%20%20%20%20%20%20%22maxNativeZoom%22%3A%2018%2C%0A%20%20%20%20%20%20%20%20%22maxZoom%22%3A%2018%2C%0A%20%20%20%20%20%20%20%20%22minZoom%22%3A%200%2C%0A%20%20%20%20%20%20%20%20%22noWrap%22%3A%20false%2C%0A%20%20%20%20%20%20%20%20%22opacity%22%3A%201%2C%0A%20%20%20%20%20%20%20%20%22subdomains%22%3A%20%22abc%22%2C%0A%20%20%20%20%20%20%20%20%22tms%22%3A%20false%0A%7D%29.addTo%28map_23836311e3fd411c8485d6e8b14793dd%29%3B%0A%20%20%20%20%0A%0A%20%20%20%20%20%20%20%20%20%20%20%20var%20circle_4ed6ddf700f64904a02b57e45dd59a1f%20%3D%20L.circle%28%0A%20%20%20%20%20%20%20%20%20%20%20%20%20%20%20%20%5B8.8852282%2C%20-75.7922421%5D%2C%0A%20%20%20%20%20%20%20%20%20%20%20%20%20%20%20%20%7B%0A%20%20%22bubblingMouseEvents%22%3A%20true%2C%0A%20%20%22color%22%3A%20%22blue%22%2C%0A%20%20%22dashArray%22%3A%20null%2C%0A%20%20%22dashOffset%22%3A%20null%2C%0A%20%20%22fill%22%3A%20true%2C%0A%20%20%22fillColor%22%3A%20%22blue%22%2C%0A%20%20%22fillOpacity%22%3A%200.2%2C%0A%20%20%22fillRule%22%3A%20%22evenodd%22%2C%0A%20%20%22lineCap%22%3A%20%22round%22%2C%0A%20%20%22lineJoin%22%3A%20%22round%22%2C%0A%20%20%22opacity%22%3A%201.0%2C%0A%20%20%22radius%22%3A%2012600.0%2C%0A%20%20%22stroke%22%3A%20true%2C%0A%20%20%22weight%22%3A%203%0A%7D%0A%20%20%20%20%20%20%20%20%20%20%20%20%20%20%20%20%29%0A%20%20%20%20%20%20%20%20%20%20%20%20%20%20%20%20.addTo%28map_23836311e3fd411c8485d6e8b14793dd%29%3B%0A%20%20%20%20%20%20%20%20%20%20%20%20%0A%20%20%20%20%0A%20%20%20%20%20%20%20%20%20%20%20%20var%20popup_9c2d026b2d754cd59c3260f7c54cdde3%20%3D%20L.popup%28%7BmaxWidth%3A%20%27100%25%27%0A%20%20%20%20%20%20%20%20%20%20%20%20%0A%20%20%20%20%20%20%20%20%20%20%20%20%7D%29%3B%0A%0A%20%20%20%20%20%20%20%20%20%20%20%20%0A%20%20%20%20%20%20%20%20%20%20%20%20%20%20%20%20var%20html_27be8414c3ca47b3bf3c91344f885ed6%20%3D%20%24%28%60%3Cdiv%20id%3D%22html_27be8414c3ca47b3bf3c91344f885ed6%22%20style%3D%22width%3A%20100.0%25%3B%20height%3A%20100.0%25%3B%22%3ECERETE%20Total%20de%20Pruebas%20Realizadas%3A%20%2042%20Positivas%3A%20%20nan%3C/div%3E%60%29%5B0%5D%3B%0A%20%20%20%20%20%20%20%20%20%20%20%20%20%20%20%20popup_9c2d026b2d754cd59c3260f7c54cdde3.setContent%28html_27be8414c3ca47b3bf3c91344f885ed6%29%3B%0A%20%20%20%20%20%20%20%20%20%20%20%20%0A%0A%20%20%20%20%20%20%20%20%20%20%20%20circle_4ed6ddf700f64904a02b57e45dd59a1f.bindPopup%28popup_9c2d026b2d754cd59c3260f7c54cdde3%29%0A%20%20%20%20%20%20%20%20%20%20%20%20%3B%0A%0A%20%20%20%20%20%20%20%20%20%20%20%20%0A%20%20%20%20%20%20%20%20%0A%20%20%20%20%0A%0A%20%20%20%20%20%20%20%20%20%20%20%20var%20circle_9d018cae967e41b7a08798fdb947087e%20%3D%20L.circle%28%0A%20%20%20%20%20%20%20%20%20%20%20%20%20%20%20%20%5B9.2394583%2C%20-75.8139786%5D%2C%0A%20%20%20%20%20%20%20%20%20%20%20%20%20%20%20%20%7B%0A%20%20%22bubblingMouseEvents%22%3A%20true%2C%0A%20%20%22color%22%3A%20%22blue%22%2C%0A%20%20%22dashArray%22%3A%20null%2C%0A%20%20%22dashOffset%22%3A%20null%2C%0A%20%20%22fill%22%3A%20true%2C%0A%20%20%22fillColor%22%3A%20%22blue%22%2C%0A%20%20%22fillOpacity%22%3A%200.2%2C%0A%20%20%22fillRule%22%3A%20%22evenodd%22%2C%0A%20%20%22lineCap%22%3A%20%22round%22%2C%0A%20%20%22lineJoin%22%3A%20%22round%22%2C%0A%20%20%22opacity%22%3A%201.0%2C%0A%20%20%22radius%22%3A%207500.0%2C%0A%20%20%22stroke%22%3A%20true%2C%0A%20%20%22weight%22%3A%203%0A%7D%0A%20%20%20%20%20%20%20%20%20%20%20%20%20%20%20%20%29%0A%20%20%20%20%20%20%20%20%20%20%20%20%20%20%20%20.addTo%28map_23836311e3fd411c8485d6e8b14793dd%29%3B%0A%20%20%20%20%20%20%20%20%20%20%20%20%0A%20%20%20%20%0A%20%20%20%20%20%20%20%20%20%20%20%20var%20popup_70b2c55681ee46d2970b9d954e0ed706%20%3D%20L.popup%28%7BmaxWidth%3A%20%27100%25%27%0A%20%20%20%20%20%20%20%20%20%20%20%20%0A%20%20%20%20%20%20%20%20%20%20%20%20%7D%29%3B%0A%0A%20%20%20%20%20%20%20%20%20%20%20%20%0A%20%20%20%20%20%20%20%20%20%20%20%20%20%20%20%20var%20html_8de373b0f7be4a9e93bcfc4e58d9f956%20%3D%20%24%28%60%3Cdiv%20id%3D%22html_8de373b0f7be4a9e93bcfc4e58d9f956%22%20style%3D%22width%3A%20100.0%25%3B%20height%3A%20100.0%25%3B%22%3ELORICA%20Total%20de%20Pruebas%20Realizadas%3A%20%2025%20Positivas%3A%20%20nan%3C/div%3E%60%29%5B0%5D%3B%0A%20%20%20%20%20%20%20%20%20%20%20%20%20%20%20%20popup_70b2c55681ee46d2970b9d954e0ed706.setContent%28html_8de373b0f7be4a9e93bcfc4e58d9f956%29%3B%0A%20%20%20%20%20%20%20%20%20%20%20%20%0A%0A%20%20%20%20%20%20%20%20%20%20%20%20circle_9d018cae967e41b7a08798fdb947087e.bindPopup%28popup_70b2c55681ee46d2970b9d954e0ed706%29%0A%20%20%20%20%20%20%20%20%20%20%20%20%3B%0A%0A%20%20%20%20%20%20%20%20%20%20%20%20%0A%20%20%20%20%20%20%20%20%0A%20%20%20%20%0A%0A%20%20%20%20%20%20%20%20%20%20%20%20var%20circle_7350802e187847bc8a9316a520274ea6%20%3D%20L.circle%28%0A%20%20%20%20%20%20%20%20%20%20%20%20%20%20%20%20%5B7.9800534%2C%20-75.4167198%5D%2C%0A%20%20%20%20%20%20%20%20%20%20%20%20%20%20%20%20%7B%0A%20%20%22bubblingMouseEvents%22%3A%20true%2C%0A%20%20%22color%22%3A%20%22blue%22%2C%0A%20%20%22dashArray%22%3A%20null%2C%0A%20%20%22dashOffset%22%3A%20null%2C%0A%20%20%22fill%22%3A%20true%2C%0A%20%20%22fillColor%22%3A%20%22blue%22%2C%0A%20%20%22fillOpacity%22%3A%200.2%2C%0A%20%20%22fillRule%22%3A%20%22evenodd%22%2C%0A%20%20%22lineCap%22%3A%20%22round%22%2C%0A%20%20%22lineJoin%22%3A%20%22round%22%2C%0A%20%20%22opacity%22%3A%201.0%2C%0A%20%20%22radius%22%3A%203900.0%2C%0A%20%20%22stroke%22%3A%20true%2C%0A%20%20%22weight%22%3A%203%0A%7D%0A%20%20%20%20%20%20%20%20%20%20%20%20%20%20%20%20%29%0A%20%20%20%20%20%20%20%20%20%20%20%20%20%20%20%20.addTo%28map_23836311e3fd411c8485d6e8b14793dd%29%3B%0A%20%20%20%20%20%20%20%20%20%20%20%20%0A%20%20%20%20%0A%20%20%20%20%20%20%20%20%20%20%20%20var%20popup_1e4d711250a64623848398553cf92070%20%3D%20L.popup%28%7BmaxWidth%3A%20%27100%25%27%0A%20%20%20%20%20%20%20%20%20%20%20%20%0A%20%20%20%20%20%20%20%20%20%20%20%20%7D%29%3B%0A%0A%20%20%20%20%20%20%20%20%20%20%20%20%0A%20%20%20%20%20%20%20%20%20%20%20%20%20%20%20%20var%20html_fc1f69a96e3340dc93b71d42d88d0cbf%20%3D%20%24%28%60%3Cdiv%20id%3D%22html_fc1f69a96e3340dc93b71d42d88d0cbf%22%20style%3D%22width%3A%20100.0%25%3B%20height%3A%20100.0%25%3B%22%3EMONTELIBANO%20Total%20de%20Pruebas%20Realizadas%3A%20%2013%20Positivas%3A%20%20nan%3C/div%3E%60%29%5B0%5D%3B%0A%20%20%20%20%20%20%20%20%20%20%20%20%20%20%20%20popup_1e4d711250a64623848398553cf92070.setContent%28html_fc1f69a96e3340dc93b71d42d88d0cbf%29%3B%0A%20%20%20%20%20%20%20%20%20%20%20%20%0A%0A%20%20%20%20%20%20%20%20%20%20%20%20circle_7350802e187847bc8a9316a520274ea6.bindPopup%28popup_1e4d711250a64623848398553cf92070%29%0A%20%20%20%20%20%20%20%20%20%20%20%20%3B%0A%0A%20%20%20%20%20%20%20%20%20%20%20%20%0A%20%20%20%20%20%20%20%20%0A%20%20%20%20%0A%0A%20%20%20%20%20%20%20%20%20%20%20%20var%20circle_a0faed30345149858689d97bab71dcdd%20%3D%20L.circle%28%0A%20%20%20%20%20%20%20%20%20%20%20%20%20%20%20%20%5B8.7558921%2C%20-75.887029%5D%2C%0A%20%20%20%20%20%20%20%20%20%20%20%20%20%20%20%20%7B%0A%20%20%22bubblingMouseEvents%22%3A%20true%2C%0A%20%20%22color%22%3A%20%22blue%22%2C%0A%20%20%22dashArray%22%3A%20null%2C%0A%20%20%22dashOffset%22%3A%20null%2C%0A%20%20%22fill%22%3A%20true%2C%0A%20%20%22fillColor%22%3A%20%22blue%22%2C%0A%20%20%22fillOpacity%22%3A%200.2%2C%0A%20%20%22fillRule%22%3A%20%22evenodd%22%2C%0A%20%20%22lineCap%22%3A%20%22round%22%2C%0A%20%20%22lineJoin%22%3A%20%22round%22%2C%0A%20%20%22opacity%22%3A%201.0%2C%0A%20%20%22radius%22%3A%204800.0%2C%0A%20%20%22stroke%22%3A%20true%2C%0A%20%20%22weight%22%3A%203%0A%7D%0A%20%20%20%20%20%20%20%20%20%20%20%20%20%20%20%20%29%0A%20%20%20%20%20%20%20%20%20%20%20%20%20%20%20%20.addTo%28map_23836311e3fd411c8485d6e8b14793dd%29%3B%0A%20%20%20%20%20%20%20%20%20%20%20%20%0A%20%20%20%20%0A%20%20%20%20%20%20%20%20%20%20%20%20var%20popup_3d41a5c6d5d54f0397c0625701070156%20%3D%20L.popup%28%7BmaxWidth%3A%20%27100%25%27%0A%20%20%20%20%20%20%20%20%20%20%20%20%0A%20%20%20%20%20%20%20%20%20%20%20%20%7D%29%3B%0A%0A%20%20%20%20%20%20%20%20%20%20%20%20%0A%20%20%20%20%20%20%20%20%20%20%20%20%20%20%20%20var%20html_d356085f00394d8389c9b8107e1666b7%20%3D%20%24%28%60%3Cdiv%20id%3D%22html_d356085f00394d8389c9b8107e1666b7%22%20style%3D%22width%3A%20100.0%25%3B%20height%3A%20100.0%25%3B%22%3EMONTERIA%20Total%20de%20Pruebas%20Realizadas%3A%20%2016%20Positivas%3A%20%201.0%3C/div%3E%60%29%5B0%5D%3B%0A%20%20%20%20%20%20%20%20%20%20%20%20%20%20%20%20popup_3d41a5c6d5d54f0397c0625701070156.setContent%28html_d356085f00394d8389c9b8107e1666b7%29%3B%0A%20%20%20%20%20%20%20%20%20%20%20%20%0A%0A%20%20%20%20%20%20%20%20%20%20%20%20circle_a0faed30345149858689d97bab71dcdd.bindPopup%28popup_3d41a5c6d5d54f0397c0625701070156%29%0A%20%20%20%20%20%20%20%20%20%20%20%20%3B%0A%0A%20%20%20%20%20%20%20%20%20%20%20%20%0A%20%20%20%20%20%20%20%20%0A%20%20%20%20%0A%0A%20%20%20%20%20%20%20%20%20%20%20%20var%20circle_2e500cdad6d44e4ca3d384c1ce2fb389%20%3D%20L.circle%28%0A%20%20%20%20%20%20%20%20%20%20%20%20%20%20%20%20%5B8.4076739%2C%20-75.5840456%5D%2C%0A%20%20%20%20%20%20%20%20%20%20%20%20%20%20%20%20%7B%0A%20%20%22bubblingMouseEvents%22%3A%20true%2C%0A%20%20%22color%22%3A%20%22blue%22%2C%0A%20%20%22dashArray%22%3A%20null%2C%0A%20%20%22dashOffset%22%3A%20null%2C%0A%20%20%22fill%22%3A%20true%2C%0A%20%20%22fillColor%22%3A%20%22blue%22%2C%0A%20%20%22fillOpacity%22%3A%200.2%2C%0A%20%20%22fillRule%22%3A%20%22evenodd%22%2C%0A%20%20%22lineCap%22%3A%20%22round%22%2C%0A%20%20%22lineJoin%22%3A%20%22round%22%2C%0A%20%20%22opacity%22%3A%201.0%2C%0A%20%20%22radius%22%3A%2011700.0%2C%0A%20%20%22stroke%22%3A%20true%2C%0A%20%20%22weight%22%3A%203%0A%7D%0A%20%20%20%20%20%20%20%20%20%20%20%20%20%20%20%20%29%0A%20%20%20%20%20%20%20%20%20%20%20%20%20%20%20%20.addTo%28map_23836311e3fd411c8485d6e8b14793dd%29%3B%0A%20%20%20%20%20%20%20%20%20%20%20%20%0A%20%20%20%20%0A%20%20%20%20%20%20%20%20%20%20%20%20var%20popup_8da51f974bed4fc88a38f39d205a4fc1%20%3D%20L.popup%28%7BmaxWidth%3A%20%27100%25%27%0A%20%20%20%20%20%20%20%20%20%20%20%20%0A%20%20%20%20%20%20%20%20%20%20%20%20%7D%29%3B%0A%0A%20%20%20%20%20%20%20%20%20%20%20%20%0A%20%20%20%20%20%20%20%20%20%20%20%20%20%20%20%20var%20html_a8fc93b1be394490804835daa3869c33%20%3D%20%24%28%60%3Cdiv%20id%3D%22html_a8fc93b1be394490804835daa3869c33%22%20style%3D%22width%3A%20100.0%25%3B%20height%3A%20100.0%25%3B%22%3EPLANETA%20RICA%20Total%20de%20Pruebas%20Realizadas%3A%20%2039%20Positivas%3A%20%20nan%3C/div%3E%60%29%5B0%5D%3B%0A%20%20%20%20%20%20%20%20%20%20%20%20%20%20%20%20popup_8da51f974bed4fc88a38f39d205a4fc1.setContent%28html_a8fc93b1be394490804835daa3869c33%29%3B%0A%20%20%20%20%20%20%20%20%20%20%20%20%0A%0A%20%20%20%20%20%20%20%20%20%20%20%20circle_2e500cdad6d44e4ca3d384c1ce2fb389.bindPopup%28popup_8da51f974bed4fc88a38f39d205a4fc1%29%0A%20%20%20%20%20%20%20%20%20%20%20%20%3B%0A%0A%20%20%20%20%20%20%20%20%20%20%20%20%0A%20%20%20%20%20%20%20%20%0A%20%20%20%20%0A%0A%20%20%20%20%20%20%20%20%20%20%20%20var%20circle_74bf88e1caeb4f9081ee95164083bf5e%20%3D%20L.circle%28%0A%20%20%20%20%20%20%20%20%20%20%20%20%20%20%20%20%5B8.9472964%2C%20-75.4434972%5D%2C%0A%20%20%20%20%20%20%20%20%20%20%20%20%20%20%20%20%7B%0A%20%20%22bubblingMouseEvents%22%3A%20true%2C%0A%20%20%22color%22%3A%20%22blue%22%2C%0A%20%20%22dashArray%22%3A%20null%2C%0A%20%20%22dashOffset%22%3A%20null%2C%0A%20%20%22fill%22%3A%20true%2C%0A%20%20%22fillColor%22%3A%20%22blue%22%2C%0A%20%20%22fillOpacity%22%3A%200.2%2C%0A%20%20%22fillRule%22%3A%20%22evenodd%22%2C%0A%20%20%22lineCap%22%3A%20%22round%22%2C%0A%20%20%22lineJoin%22%3A%20%22round%22%2C%0A%20%20%22opacity%22%3A%201.0%2C%0A%20%20%22radius%22%3A%208700.0%2C%0A%20%20%22stroke%22%3A%20true%2C%0A%20%20%22weight%22%3A%203%0A%7D%0A%20%20%20%20%20%20%20%20%20%20%20%20%20%20%20%20%29%0A%20%20%20%20%20%20%20%20%20%20%20%20%20%20%20%20.addTo%28map_23836311e3fd411c8485d6e8b14793dd%29%3B%0A%20%20%20%20%20%20%20%20%20%20%20%20%0A%20%20%20%20%0A%20%20%20%20%20%20%20%20%20%20%20%20var%20popup_90eca7b801104d0abd1335ddcc7b47b6%20%3D%20L.popup%28%7BmaxWidth%3A%20%27100%25%27%0A%20%20%20%20%20%20%20%20%20%20%20%20%0A%20%20%20%20%20%20%20%20%20%20%20%20%7D%29%3B%0A%0A%20%20%20%20%20%20%20%20%20%20%20%20%0A%20%20%20%20%20%20%20%20%20%20%20%20%20%20%20%20var%20html_8c534bbd1c5d4a1cbbbd712508b4b6d8%20%3D%20%24%28%60%3Cdiv%20id%3D%22html_8c534bbd1c5d4a1cbbbd712508b4b6d8%22%20style%3D%22width%3A%20100.0%25%3B%20height%3A%20100.0%25%3B%22%3ESAHAG%C3%9AN%20Total%20de%20Pruebas%20Realizadas%3A%20%2029%20Positivas%3A%20%20nan%3C/div%3E%60%29%5B0%5D%3B%0A%20%20%20%20%20%20%20%20%20%20%20%20%20%20%20%20popup_90eca7b801104d0abd1335ddcc7b47b6.setContent%28html_8c534bbd1c5d4a1cbbbd712508b4b6d8%29%3B%0A%20%20%20%20%20%20%20%20%20%20%20%20%0A%0A%20%20%20%20%20%20%20%20%20%20%20%20circle_74bf88e1caeb4f9081ee95164083bf5e.bindPopup%28popup_90eca7b801104d0abd1335ddcc7b47b6%29%0A%20%20%20%20%20%20%20%20%20%20%20%20%3B%0A%0A%20%20%20%20%20%20%20%20%20%20%20%20%0A%20%20%20%20%20%20%20%20%0A%20%20%20%20%0A%0A%20%20%20%20%20%20%20%20%20%20%20%20var%20circle_5342fe0bb80f4553b649c958ec79d325%20%3D%20L.circle%28%0A%20%20%20%20%20%20%20%20%20%20%20%20%20%20%20%20%5B9.373016%2C%20-75.7595056%5D%2C%0A%20%20%20%20%20%20%20%20%20%20%20%20%20%20%20%20%7B%0A%20%20%22bubblingMouseEvents%22%3A%20true%2C%0A%20%20%22color%22%3A%20%22blue%22%2C%0A%20%20%22dashArray%22%3A%20null%2C%0A%20%20%22dashOffset%22%3A%20null%2C%0A%20%20%22fill%22%3A%20true%2C%0A%20%20%22fillColor%22%3A%20%22blue%22%2C%0A%20%20%22fillOpacity%22%3A%200.2%2C%0A%20%20%22fillRule%22%3A%20%22evenodd%22%2C%0A%20%20%22lineCap%22%3A%20%22round%22%2C%0A%20%20%22lineJoin%22%3A%20%22round%22%2C%0A%20%20%22opacity%22%3A%201.0%2C%0A%20%20%22radius%22%3A%206000.0%2C%0A%20%20%22stroke%22%3A%20true%2C%0A%20%20%22weight%22%3A%203%0A%7D%0A%20%20%20%20%20%20%20%20%20%20%20%20%20%20%20%20%29%0A%20%20%20%20%20%20%20%20%20%20%20%20%20%20%20%20.addTo%28map_23836311e3fd411c8485d6e8b14793dd%29%3B%0A%20%20%20%20%20%20%20%20%20%20%20%20%0A%20%20%20%20%0A%20%20%20%20%20%20%20%20%20%20%20%20var%20popup_aa4fa5d418fc45c98dfd965c244029a8%20%3D%20L.popup%28%7BmaxWidth%3A%20%27100%25%27%0A%20%20%20%20%20%20%20%20%20%20%20%20%0A%20%20%20%20%20%20%20%20%20%20%20%20%7D%29%3B%0A%0A%20%20%20%20%20%20%20%20%20%20%20%20%0A%20%20%20%20%20%20%20%20%20%20%20%20%20%20%20%20var%20html_a38e8aa889df4ae197e2de25d0ee5d16%20%3D%20%24%28%60%3Cdiv%20id%3D%22html_a38e8aa889df4ae197e2de25d0ee5d16%22%20style%3D%22width%3A%20100.0%25%3B%20height%3A%20100.0%25%3B%22%3ESAN%20ANTERO%20Total%20de%20Pruebas%20Realizadas%3A%20%2020%20Positivas%3A%20%20nan%3C/div%3E%60%29%5B0%5D%3B%0A%20%20%20%20%20%20%20%20%20%20%20%20%20%20%20%20popup_aa4fa5d418fc45c98dfd965c244029a8.setContent%28html_a38e8aa889df4ae197e2de25d0ee5d16%29%3B%0A%20%20%20%20%20%20%20%20%20%20%20%20%0A%0A%20%20%20%20%20%20%20%20%20%20%20%20circle_5342fe0bb80f4553b649c958ec79d325.bindPopup%28popup_aa4fa5d418fc45c98dfd965c244029a8%29%0A%20%20%20%20%20%20%20%20%20%20%20%20%3B%0A%0A%20%20%20%20%20%20%20%20%20%20%20%20%0A%20%20%20%20%20%20%20%20%0A%20%20%20%20%0A%0A%20%20%20%20%20%20%20%20%20%20%20%20var%20circle_9089863f820f4b148274dba0a4b99550%20%3D%20L.circle%28%0A%20%20%20%20%20%20%20%20%20%20%20%20%20%20%20%20%5B8.1717342%2C%20-76.059376%5D%2C%0A%20%20%20%20%20%20%20%20%20%20%20%20%20%20%20%20%7B%0A%20%20%22bubblingMouseEvents%22%3A%20true%2C%0A%20%20%22color%22%3A%20%22blue%22%2C%0A%20%20%22dashArray%22%3A%20null%2C%0A%20%20%22dashOffset%22%3A%20null%2C%0A%20%20%22fill%22%3A%20true%2C%0A%20%20%22fillColor%22%3A%20%22blue%22%2C%0A%20%20%22fillOpacity%22%3A%200.2%2C%0A%20%20%22fillRule%22%3A%20%22evenodd%22%2C%0A%20%20%22lineCap%22%3A%20%22round%22%2C%0A%20%20%22lineJoin%22%3A%20%22round%22%2C%0A%20%20%22opacity%22%3A%201.0%2C%0A%20%20%22radius%22%3A%206900.0%2C%0A%20%20%22stroke%22%3A%20true%2C%0A%20%20%22weight%22%3A%203%0A%7D%0A%20%20%20%20%20%20%20%20%20%20%20%20%20%20%20%20%29%0A%20%20%20%20%20%20%20%20%20%20%20%20%20%20%20%20.addTo%28map_23836311e3fd411c8485d6e8b14793dd%29%3B%0A%20%20%20%20%20%20%20%20%20%20%20%20%0A%20%20%20%20%0A%20%20%20%20%20%20%20%20%20%20%20%20var%20popup_80121af7f7c54a2a88c5506aa49124f9%20%3D%20L.popup%28%7BmaxWidth%3A%20%27100%25%27%0A%20%20%20%20%20%20%20%20%20%20%20%20%0A%20%20%20%20%20%20%20%20%20%20%20%20%7D%29%3B%0A%0A%20%20%20%20%20%20%20%20%20%20%20%20%0A%20%20%20%20%20%20%20%20%20%20%20%20%20%20%20%20var%20html_5007fd292d82419c8c81ee80cf942c08%20%3D%20%24%28%60%3Cdiv%20id%3D%22html_5007fd292d82419c8c81ee80cf942c08%22%20style%3D%22width%3A%20100.0%25%3B%20height%3A%20100.0%25%3B%22%3ETIERRALTA%20%20Total%20de%20Pruebas%20Realizadas%3A%20%2023%20Positivas%3A%20%20nan%3C/div%3E%60%29%5B0%5D%3B%0A%20%20%20%20%20%20%20%20%20%20%20%20%20%20%20%20popup_80121af7f7c54a2a88c5506aa49124f9.setContent%28html_5007fd292d82419c8c81ee80cf942c08%29%3B%0A%20%20%20%20%20%20%20%20%20%20%20%20%0A%0A%20%20%20%20%20%20%20%20%20%20%20%20circle_9089863f820f4b148274dba0a4b99550.bindPopup%28popup_80121af7f7c54a2a88c5506aa49124f9%29%0A%20%20%20%20%20%20%20%20%20%20%20%20%3B%0A%0A%20%20%20%20%20%20%20%20%20%20%20%20%0A%20%20%20%20%20%20%20%20%0A%3C/script%3E onload=\"this.contentDocument.open();this.contentDocument.write(    decodeURIComponent(this.getAttribute('data-html')));this.contentDocument.close();\" \"allowfullscreen\" \"webkitallowfullscreen\" \"mozallowfullscreen\"></iframe>"
            ],
            "text/plain": [
              "<branca.element.Figure at 0x7f3e1f325dd0>"
            ]
          },
          "metadata": {
            "tags": []
          },
          "execution_count": 48
        }
      ]
    },
    {
      "cell_type": "code",
      "metadata": {
        "id": "V4YccvMaNln3"
      },
      "source": [
        ""
      ],
      "execution_count": null,
      "outputs": []
    }
  ]
}