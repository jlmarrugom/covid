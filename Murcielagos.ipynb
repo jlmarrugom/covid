{
  "nbformat": 4,
  "nbformat_minor": 0,
  "metadata": {
    "colab": {
      "name": "Murcielagos.ipynb",
      "provenance": [],
      "mount_file_id": "11igeaMehkfgSnkos63YB1voCMXEGF4qO",
      "authorship_tag": "ABX9TyN5KUYrh1kmkD0ZBihgJUgQ",
      "include_colab_link": true
    },
    "kernelspec": {
      "name": "python3",
      "display_name": "Python 3"
    },
    "language_info": {
      "name": "python"
    }
  },
  "cells": [
    {
      "cell_type": "markdown",
      "metadata": {
        "id": "view-in-github",
        "colab_type": "text"
      },
      "source": [
        "<a href=\"https://colab.research.google.com/github/jlmarrugom/covid/blob/main/Murcielagos.ipynb\" target=\"_parent\"><img src=\"https://colab.research.google.com/assets/colab-badge.svg\" alt=\"Open In Colab\"/></a>"
      ]
    },
    {
      "cell_type": "markdown",
      "metadata": {
        "id": "qY9_lOkZ_ssS"
      },
      "source": [
        "# EDA Base de Datos de Murcielagos"
      ]
    },
    {
      "cell_type": "markdown",
      "metadata": {
        "id": "8sQL9Wgu_mXT"
      },
      "source": [
        "### Lectura y Corrección de Datos"
      ]
    },
    {
      "cell_type": "code",
      "metadata": {
        "id": "qLTUoE4sr2_b"
      },
      "source": [
        "import numpy as np\n",
        "import pandas as pd\n",
        "import matplotlib.pyplot as plt\n",
        "import folium  #needed for interactive map\n",
        "from folium.plugins import HeatMap"
      ],
      "execution_count": null,
      "outputs": []
    },
    {
      "cell_type": "code",
      "metadata": {
        "colab": {
          "base_uri": "https://localhost:8080/",
          "height": 191
        },
        "id": "5hXZ76KusG7M",
        "outputId": "2b556ec4-610f-4d33-92c6-1a0d9f586b0b"
      },
      "source": [
        "bats = pd.read_excel('/content/drive/MyDrive/Covid UC/Base de datos murcielagos Córdoba_Dic 2020.xlsx',sheet_name='Datos')\n",
        "bats['Conteo'] = 1\n",
        "bats.head()"
      ],
      "execution_count": null,
      "outputs": [
        {
          "output_type": "execute_result",
          "data": {
            "text/html": [
              "<div>\n",
              "<style scoped>\n",
              "    .dataframe tbody tr th:only-of-type {\n",
              "        vertical-align: middle;\n",
              "    }\n",
              "\n",
              "    .dataframe tbody tr th {\n",
              "        vertical-align: top;\n",
              "    }\n",
              "\n",
              "    .dataframe thead th {\n",
              "        text-align: right;\n",
              "    }\n",
              "</style>\n",
              "<table border=\"1\" class=\"dataframe\">\n",
              "  <thead>\n",
              "    <tr style=\"text-align: right;\">\n",
              "      <th></th>\n",
              "      <th>Nro.</th>\n",
              "      <th>Cód.</th>\n",
              "      <th>Fecha de  toma de muestra</th>\n",
              "      <th>Lugar</th>\n",
              "      <th>Coordenadas</th>\n",
              "      <th>Urb/Rural</th>\n",
              "      <th>Especie</th>\n",
              "      <th>Sexo</th>\n",
              "      <th>Conteo</th>\n",
              "    </tr>\n",
              "  </thead>\n",
              "  <tbody>\n",
              "    <tr>\n",
              "      <th>0</th>\n",
              "      <td>1</td>\n",
              "      <td>1</td>\n",
              "      <td>2020-09-22</td>\n",
              "      <td>Sahagun</td>\n",
              "      <td>NaN</td>\n",
              "      <td>Urbano</td>\n",
              "      <td>Glossophaga soricina</td>\n",
              "      <td>Macho</td>\n",
              "      <td>1</td>\n",
              "    </tr>\n",
              "    <tr>\n",
              "      <th>1</th>\n",
              "      <td>2</td>\n",
              "      <td>2</td>\n",
              "      <td>2020-09-22</td>\n",
              "      <td>Sahagun</td>\n",
              "      <td>NaN</td>\n",
              "      <td>Urbano</td>\n",
              "      <td>Artibeus planirostris</td>\n",
              "      <td>Hembra</td>\n",
              "      <td>1</td>\n",
              "    </tr>\n",
              "    <tr>\n",
              "      <th>2</th>\n",
              "      <td>3</td>\n",
              "      <td>3</td>\n",
              "      <td>2020-09-22</td>\n",
              "      <td>Sahagun</td>\n",
              "      <td>NaN</td>\n",
              "      <td>Urbano</td>\n",
              "      <td>Artibeus planirostris</td>\n",
              "      <td>Macho</td>\n",
              "      <td>1</td>\n",
              "    </tr>\n",
              "    <tr>\n",
              "      <th>3</th>\n",
              "      <td>4</td>\n",
              "      <td>4</td>\n",
              "      <td>2020-09-22</td>\n",
              "      <td>Sahagun</td>\n",
              "      <td>NaN</td>\n",
              "      <td>Urbano</td>\n",
              "      <td>Artibeus planirostris</td>\n",
              "      <td>Macho</td>\n",
              "      <td>1</td>\n",
              "    </tr>\n",
              "    <tr>\n",
              "      <th>4</th>\n",
              "      <td>5</td>\n",
              "      <td>5</td>\n",
              "      <td>2020-09-22</td>\n",
              "      <td>Sahagun</td>\n",
              "      <td>NaN</td>\n",
              "      <td>Urbano</td>\n",
              "      <td>Artibeus planirostris</td>\n",
              "      <td>Hembra</td>\n",
              "      <td>1</td>\n",
              "    </tr>\n",
              "  </tbody>\n",
              "</table>\n",
              "</div>"
            ],
            "text/plain": [
              "   Nro.  Cód. Fecha de  toma de muestra  ...                Especie    Sexo Conteo\n",
              "0     1     1                2020-09-22  ...   Glossophaga soricina   Macho      1\n",
              "1     2     2                2020-09-22  ...  Artibeus planirostris  Hembra      1\n",
              "2     3     3                2020-09-22  ...  Artibeus planirostris   Macho      1\n",
              "3     4     4                2020-09-22  ...  Artibeus planirostris   Macho      1\n",
              "4     5     5                2020-09-22  ...  Artibeus planirostris  Hembra      1\n",
              "\n",
              "[5 rows x 9 columns]"
            ]
          },
          "metadata": {
            "tags": []
          },
          "execution_count": 2
        }
      ]
    },
    {
      "cell_type": "code",
      "metadata": {
        "colab": {
          "base_uri": "https://localhost:8080/"
        },
        "id": "ZIQFWuLptuja",
        "outputId": "aeb846f3-0727-47e6-c1f4-843894700186"
      },
      "source": [
        "bats.info()"
      ],
      "execution_count": null,
      "outputs": [
        {
          "output_type": "stream",
          "text": [
            "<class 'pandas.core.frame.DataFrame'>\n",
            "RangeIndex: 131 entries, 0 to 130\n",
            "Data columns (total 9 columns):\n",
            " #   Column                     Non-Null Count  Dtype         \n",
            "---  ------                     --------------  -----         \n",
            " 0   Nro.                       131 non-null    int64         \n",
            " 1   Cód.                       131 non-null    int64         \n",
            " 2   Fecha de  toma de muestra  131 non-null    datetime64[ns]\n",
            " 3   Lugar                      131 non-null    object        \n",
            " 4   Coordenadas                0 non-null      float64       \n",
            " 5   Urb/Rural                  131 non-null    object        \n",
            " 6   Especie                    131 non-null    object        \n",
            " 7   Sexo                       131 non-null    object        \n",
            " 8   Conteo                     131 non-null    int64         \n",
            "dtypes: datetime64[ns](1), float64(1), int64(3), object(4)\n",
            "memory usage: 9.3+ KB\n"
          ],
          "name": "stdout"
        }
      ]
    },
    {
      "cell_type": "code",
      "metadata": {
        "colab": {
          "base_uri": "https://localhost:8080/"
        },
        "id": "qbclTQCQxFgS",
        "outputId": "8e71545d-fcc8-4df2-d168-abafe63ff908"
      },
      "source": [
        "bats['Urb/Rural'].value_counts()"
      ],
      "execution_count": null,
      "outputs": [
        {
          "output_type": "execute_result",
          "data": {
            "text/plain": [
              "Urbano     64\n",
              "Urbano     54\n",
              "Rural      13\n",
              "Name: Urb/Rural, dtype: int64"
            ]
          },
          "metadata": {
            "tags": []
          },
          "execution_count": 4
        }
      ]
    },
    {
      "cell_type": "code",
      "metadata": {
        "colab": {
          "base_uri": "https://localhost:8080/"
        },
        "id": "OfxsTbCzxw1n",
        "outputId": "2df011e9-3811-4def-93f1-fccb75666bb3"
      },
      "source": [
        "bats['Urb/Rural'] = bats['Urb/Rural'].replace({'Urbano ':'Urbano'})\n",
        "bats['Urb/Rural'].value_counts()"
      ],
      "execution_count": null,
      "outputs": [
        {
          "output_type": "execute_result",
          "data": {
            "text/plain": [
              "Urbano    118\n",
              "Rural      13\n",
              "Name: Urb/Rural, dtype: int64"
            ]
          },
          "metadata": {
            "tags": []
          },
          "execution_count": 5
        }
      ]
    },
    {
      "cell_type": "code",
      "metadata": {
        "colab": {
          "base_uri": "https://localhost:8080/"
        },
        "id": "rFC25gEiOz8C",
        "outputId": "b9456293-3f85-4302-e99f-64254f29a771"
      },
      "source": [
        "#@title Georeferenciación\n",
        "bats['lat']=0\n",
        "bats['lon']=0\n",
        "bats['lat'].loc[bats['Lugar']=='Lorica'] = 9.2394583\n",
        "bats['lon'].loc[bats['Lugar']=='Lorica'] = -75.8139786\n",
        "\n",
        "bats['lat'].loc[bats['Lugar']=='Planeta Rica'] = 8.4076739 \n",
        "bats['lon'].loc[bats['Lugar']=='Planeta Rica'] = -75.5840456 \n",
        "\n",
        "bats['lat'].loc[bats['Lugar']=='Tierralta'] = 8.1717342\n",
        "bats['lon'].loc[bats['Lugar']=='Tierralta'] = -76.059376\n",
        "\n",
        "bats['lat'].loc[bats['Lugar']=='Sahagun'] = 8.9472964\n",
        "bats['lon'].loc[bats['Lugar']=='Sahagun'] = -75.4434972\n",
        "\n",
        "bats['lat'].loc[bats['Lugar']=='Montelibano'] = 7.9800534\n",
        "bats['lon'].loc[bats['Lugar']=='Montelibano'] = -75.4167198\n",
        "\n",
        "bats['lat'].loc[bats['Lugar']=='Cereté'] = 8.8852282\n",
        "bats['lon'].loc[bats['Lugar']=='Cereté'] = -75.7922421\n",
        "\n",
        "bats['lat'].loc[bats['Lugar']=='San Antero'] = 9.373016\n",
        "bats['lon'].loc[bats['Lugar']=='San Antero'] = -75.7595056\n",
        "\n",
        "bats['lat'].loc[bats['Lugar']=='Montería'] = 8.7558921\n",
        "bats['lon'].loc[bats['Lugar']=='Montería'] = -75.887029"
      ],
      "execution_count": null,
      "outputs": [
        {
          "output_type": "stream",
          "text": [
            "/usr/local/lib/python3.7/dist-packages/pandas/core/indexing.py:670: SettingWithCopyWarning: \n",
            "A value is trying to be set on a copy of a slice from a DataFrame\n",
            "\n",
            "See the caveats in the documentation: https://pandas.pydata.org/pandas-docs/stable/user_guide/indexing.html#returning-a-view-versus-a-copy\n",
            "  iloc._setitem_with_indexer(indexer, value)\n"
          ],
          "name": "stderr"
        }
      ]
    },
    {
      "cell_type": "markdown",
      "metadata": {
        "id": "zq_IbhxA_gXm"
      },
      "source": [
        "### Resultados del Análisis"
      ]
    },
    {
      "cell_type": "code",
      "metadata": {
        "colab": {
          "base_uri": "https://localhost:8080/",
          "height": 306
        },
        "id": "sq2TCgf-s-bB",
        "outputId": "60e90c58-7b1a-451a-d3cb-907c2f1aa80f"
      },
      "source": [
        "bats[['Especie','Urb/Rural','Sexo','Lugar']].groupby(['Lugar']).agg(lambda x:x.value_counts().index[0])"
      ],
      "execution_count": null,
      "outputs": [
        {
          "output_type": "execute_result",
          "data": {
            "text/html": [
              "<div>\n",
              "<style scoped>\n",
              "    .dataframe tbody tr th:only-of-type {\n",
              "        vertical-align: middle;\n",
              "    }\n",
              "\n",
              "    .dataframe tbody tr th {\n",
              "        vertical-align: top;\n",
              "    }\n",
              "\n",
              "    .dataframe thead th {\n",
              "        text-align: right;\n",
              "    }\n",
              "</style>\n",
              "<table border=\"1\" class=\"dataframe\">\n",
              "  <thead>\n",
              "    <tr style=\"text-align: right;\">\n",
              "      <th></th>\n",
              "      <th>Especie</th>\n",
              "      <th>Urb/Rural</th>\n",
              "      <th>Sexo</th>\n",
              "    </tr>\n",
              "    <tr>\n",
              "      <th>Lugar</th>\n",
              "      <th></th>\n",
              "      <th></th>\n",
              "      <th></th>\n",
              "    </tr>\n",
              "  </thead>\n",
              "  <tbody>\n",
              "    <tr>\n",
              "      <th>Cereté</th>\n",
              "      <td>Artibeus planirostris</td>\n",
              "      <td>Urbano</td>\n",
              "      <td>Macho</td>\n",
              "    </tr>\n",
              "    <tr>\n",
              "      <th>Lorica</th>\n",
              "      <td>Artibeus planirostris</td>\n",
              "      <td>Urbano</td>\n",
              "      <td>Hembra</td>\n",
              "    </tr>\n",
              "    <tr>\n",
              "      <th>Montelibano</th>\n",
              "      <td>Artibeus planirostris</td>\n",
              "      <td>Urbano</td>\n",
              "      <td>Macho</td>\n",
              "    </tr>\n",
              "    <tr>\n",
              "      <th>Montería</th>\n",
              "      <td>Artibeus planirostris</td>\n",
              "      <td>Urbano</td>\n",
              "      <td>Macho</td>\n",
              "    </tr>\n",
              "    <tr>\n",
              "      <th>Planeta Rica</th>\n",
              "      <td>Artibeus planirostris</td>\n",
              "      <td>Urbano</td>\n",
              "      <td>Hembra</td>\n",
              "    </tr>\n",
              "    <tr>\n",
              "      <th>Sahagun</th>\n",
              "      <td>Artibeus planirostris</td>\n",
              "      <td>Urbano</td>\n",
              "      <td>Macho</td>\n",
              "    </tr>\n",
              "    <tr>\n",
              "      <th>San Antero</th>\n",
              "      <td>Artibeus planirostris</td>\n",
              "      <td>Urbano</td>\n",
              "      <td>Macho</td>\n",
              "    </tr>\n",
              "    <tr>\n",
              "      <th>Tierralta</th>\n",
              "      <td>Artibeus planirostris</td>\n",
              "      <td>Rural</td>\n",
              "      <td>Macho</td>\n",
              "    </tr>\n",
              "  </tbody>\n",
              "</table>\n",
              "</div>"
            ],
            "text/plain": [
              "                            Especie Urb/Rural    Sexo\n",
              "Lugar                                                \n",
              "Cereté        Artibeus planirostris    Urbano   Macho\n",
              "Lorica        Artibeus planirostris    Urbano  Hembra\n",
              "Montelibano   Artibeus planirostris    Urbano   Macho\n",
              "Montería      Artibeus planirostris    Urbano   Macho\n",
              "Planeta Rica  Artibeus planirostris    Urbano  Hembra\n",
              "Sahagun       Artibeus planirostris    Urbano   Macho\n",
              "San Antero    Artibeus planirostris    Urbano   Macho\n",
              "Tierralta     Artibeus planirostris     Rural   Macho"
            ]
          },
          "metadata": {
            "tags": []
          },
          "execution_count": 7
        }
      ]
    },
    {
      "cell_type": "markdown",
      "metadata": {
        "id": "6kYVvSJyuLQu"
      },
      "source": [
        "*La especie más común de Murcielagos por Lugar es la Artibeus planirostris, y el sexo Masculino. Los muestreos se hicieron mayoritariamente en entornos Urbanos. En planeta Rica se encontrarón más murcielagos con sexo femenino, y en Tierralta la mayoría de los muestreos se hicieron en entornos Rurales*"
      ]
    },
    {
      "cell_type": "code",
      "metadata": {
        "colab": {
          "base_uri": "https://localhost:8080/",
          "height": 718
        },
        "id": "1k73pECt5cxJ",
        "outputId": "8e200596-2a29-4103-b53c-3f22de163e3b"
      },
      "source": [
        "bats[['Conteo','Lugar']].groupby(['Lugar']).sum().sort_values(by='Conteo',ascending=False).plot(kind='pie',y='Conteo', figsize=(12,12),colormap='Set3',fontsize=14,legend=False,ylabel='')\n",
        "plt.title('Cantidad de Murcielagos por Lugar',fontdict={'fontsize':18})"
      ],
      "execution_count": null,
      "outputs": [
        {
          "output_type": "execute_result",
          "data": {
            "text/plain": [
              "Text(0.5, 1.0, 'Cantidad de Murcielagos por Lugar')"
            ]
          },
          "metadata": {
            "tags": []
          },
          "execution_count": 8
        },
        {
          "output_type": "display_data",
          "data": {
            "image/png": "[encoded data removed]",
            "text/plain": [
              "<Figure size 864x864 with 1 Axes>"
            ]
          },
          "metadata": {
            "tags": []
          }
        }
      ]
    },
    {
      "cell_type": "markdown",
      "metadata": {
        "id": "xBNmMtiu29sY"
      },
      "source": [
        "*La mayor variedad en especies de murcielagos se encontró en Montería, seguida de Tierralta y San Antero.*"
      ]
    },
    {
      "cell_type": "code",
      "metadata": {
        "colab": {
          "base_uri": "https://localhost:8080/",
          "height": 450
        },
        "id": "Ek8imwX5umYL",
        "outputId": "69949862-9b9c-4795-bfea-791a268df622"
      },
      "source": [
        "bats[['Especie','Urb/Rural','Sexo','Lugar']].groupby(['Especie']).agg(lambda x:x.value_counts().index[0])"
      ],
      "execution_count": null,
      "outputs": [
        {
          "output_type": "execute_result",
          "data": {
            "text/html": [
              "<div>\n",
              "<style scoped>\n",
              "    .dataframe tbody tr th:only-of-type {\n",
              "        vertical-align: middle;\n",
              "    }\n",
              "\n",
              "    .dataframe tbody tr th {\n",
              "        vertical-align: top;\n",
              "    }\n",
              "\n",
              "    .dataframe thead th {\n",
              "        text-align: right;\n",
              "    }\n",
              "</style>\n",
              "<table border=\"1\" class=\"dataframe\">\n",
              "  <thead>\n",
              "    <tr style=\"text-align: right;\">\n",
              "      <th></th>\n",
              "      <th>Urb/Rural</th>\n",
              "      <th>Sexo</th>\n",
              "      <th>Lugar</th>\n",
              "    </tr>\n",
              "    <tr>\n",
              "      <th>Especie</th>\n",
              "      <th></th>\n",
              "      <th></th>\n",
              "      <th></th>\n",
              "    </tr>\n",
              "  </thead>\n",
              "  <tbody>\n",
              "    <tr>\n",
              "      <th>Artibeus lituratus</th>\n",
              "      <td>Urbano</td>\n",
              "      <td>Macho</td>\n",
              "      <td>San Antero</td>\n",
              "    </tr>\n",
              "    <tr>\n",
              "      <th>Artibeus planirostris</th>\n",
              "      <td>Urbano</td>\n",
              "      <td>Macho</td>\n",
              "      <td>Montería</td>\n",
              "    </tr>\n",
              "    <tr>\n",
              "      <th>Carollia perspicillata</th>\n",
              "      <td>Urbano</td>\n",
              "      <td>Macho</td>\n",
              "      <td>Montelibano</td>\n",
              "    </tr>\n",
              "    <tr>\n",
              "      <th>Desmodus rotundus</th>\n",
              "      <td>Urbano</td>\n",
              "      <td>Macho</td>\n",
              "      <td>San Antero</td>\n",
              "    </tr>\n",
              "    <tr>\n",
              "      <th>Glossophaga soricina</th>\n",
              "      <td>Urbano</td>\n",
              "      <td>Hembra</td>\n",
              "      <td>Montería</td>\n",
              "    </tr>\n",
              "    <tr>\n",
              "      <th>Molossus molossus</th>\n",
              "      <td>Urbano</td>\n",
              "      <td>Macho</td>\n",
              "      <td>Tierralta</td>\n",
              "    </tr>\n",
              "    <tr>\n",
              "      <th>Myotis nigricans</th>\n",
              "      <td>Urbano</td>\n",
              "      <td>Hembra</td>\n",
              "      <td>Planeta Rica</td>\n",
              "    </tr>\n",
              "    <tr>\n",
              "      <th>Noctilio alvibentris</th>\n",
              "      <td>Urbano</td>\n",
              "      <td>Macho</td>\n",
              "      <td>Montería</td>\n",
              "    </tr>\n",
              "    <tr>\n",
              "      <th>Phillostomus discolor</th>\n",
              "      <td>Urbano</td>\n",
              "      <td>Macho</td>\n",
              "      <td>Montería</td>\n",
              "    </tr>\n",
              "    <tr>\n",
              "      <th>Phillostomus hastatus</th>\n",
              "      <td>Rural</td>\n",
              "      <td>Macho</td>\n",
              "      <td>Tierralta</td>\n",
              "    </tr>\n",
              "    <tr>\n",
              "      <th>Saccopteryx leptura</th>\n",
              "      <td>Urbano</td>\n",
              "      <td>Macho</td>\n",
              "      <td>Cereté</td>\n",
              "    </tr>\n",
              "    <tr>\n",
              "      <th>Sarcopterix leptura</th>\n",
              "      <td>Urbano</td>\n",
              "      <td>Hembra</td>\n",
              "      <td>Lorica</td>\n",
              "    </tr>\n",
              "    <tr>\n",
              "      <th>Sturnira lilium</th>\n",
              "      <td>Urbano</td>\n",
              "      <td>Macho</td>\n",
              "      <td>Montería</td>\n",
              "    </tr>\n",
              "  </tbody>\n",
              "</table>\n",
              "</div>"
            ],
            "text/plain": [
              "                       Urb/Rural    Sexo         Lugar\n",
              "Especie                                               \n",
              "Artibeus lituratus        Urbano   Macho    San Antero\n",
              "Artibeus planirostris     Urbano   Macho      Montería\n",
              "Carollia perspicillata    Urbano   Macho   Montelibano\n",
              "Desmodus rotundus         Urbano   Macho    San Antero\n",
              "Glossophaga soricina      Urbano  Hembra      Montería\n",
              "Molossus molossus         Urbano   Macho     Tierralta\n",
              "Myotis nigricans          Urbano  Hembra  Planeta Rica\n",
              "Noctilio alvibentris      Urbano   Macho      Montería\n",
              "Phillostomus discolor     Urbano   Macho      Montería\n",
              "Phillostomus hastatus      Rural   Macho     Tierralta\n",
              "Saccopteryx leptura       Urbano   Macho        Cereté\n",
              "Sarcopterix leptura       Urbano  Hembra        Lorica\n",
              "Sturnira lilium           Urbano   Macho      Montería"
            ]
          },
          "metadata": {
            "tags": []
          },
          "execution_count": 9
        }
      ]
    },
    {
      "cell_type": "markdown",
      "metadata": {
        "id": "19bBdV7Qyxhm"
      },
      "source": [
        "*Podemos ver la mayor representación que tuvo cada especie.*"
      ]
    },
    {
      "cell_type": "code",
      "metadata": {
        "colab": {
          "base_uri": "https://localhost:8080/",
          "height": 718
        },
        "id": "qqmJxSN37Mw7",
        "outputId": "d3a5cecc-fd86-4eb6-f63d-5710456991bd"
      },
      "source": [
        "bats[['Conteo','Especie']].groupby(['Especie']).sum().sort_values(by='Conteo',ascending=False).plot(kind='pie',y='Conteo', figsize=(12,12),colormap='summer',fontsize=14,legend=False,ylabel='')\n",
        "plt.title('Cantidad de Murcielagos por Especie',fontdict={'fontsize':18})"
      ],
      "execution_count": null,
      "outputs": [
        {
          "output_type": "execute_result",
          "data": {
            "text/plain": [
              "Text(0.5, 1.0, 'Cantidad de Murcielagos por Especie')"
            ]
          },
          "metadata": {
            "tags": []
          },
          "execution_count": 10
        },
        {
          "output_type": "display_data",
          "data": {
            "image/png": "[encoded data removed]",
            "text/plain": [
              "<Figure size 864x864 with 1 Axes>"
            ]
          },
          "metadata": {
            "tags": []
          }
        }
      ]
    },
    {
      "cell_type": "markdown",
      "metadata": {
        "id": "7qUJBrC1-zSK"
      },
      "source": [
        "*Las 3 especies más comunes encontradas fueron:*\n",
        "\n",
        "*1. Artibeus planirostris.*\n",
        "\n",
        "*2. Phillostomus discolor.*\n",
        "\n",
        "*3. Glossophaga soricina.*\n"
      ]
    },
    {
      "cell_type": "code",
      "metadata": {
        "colab": {
          "base_uri": "https://localhost:8080/",
          "height": 133
        },
        "id": "lljuVRIHuyuk",
        "outputId": "5be961bd-31b9-4e6b-c7af-049eaf6f5276"
      },
      "source": [
        "bats[['Especie','Urb/Rural','Sexo','Lugar']].groupby(['Urb/Rural']).agg(lambda x:x.value_counts().index[0])"
      ],
      "execution_count": null,
      "outputs": [
        {
          "output_type": "execute_result",
          "data": {
            "text/html": [
              "<div>\n",
              "<style scoped>\n",
              "    .dataframe tbody tr th:only-of-type {\n",
              "        vertical-align: middle;\n",
              "    }\n",
              "\n",
              "    .dataframe tbody tr th {\n",
              "        vertical-align: top;\n",
              "    }\n",
              "\n",
              "    .dataframe thead th {\n",
              "        text-align: right;\n",
              "    }\n",
              "</style>\n",
              "<table border=\"1\" class=\"dataframe\">\n",
              "  <thead>\n",
              "    <tr style=\"text-align: right;\">\n",
              "      <th></th>\n",
              "      <th>Especie</th>\n",
              "      <th>Sexo</th>\n",
              "      <th>Lugar</th>\n",
              "    </tr>\n",
              "    <tr>\n",
              "      <th>Urb/Rural</th>\n",
              "      <th></th>\n",
              "      <th></th>\n",
              "      <th></th>\n",
              "    </tr>\n",
              "  </thead>\n",
              "  <tbody>\n",
              "    <tr>\n",
              "      <th>Rural</th>\n",
              "      <td>Artibeus planirostris</td>\n",
              "      <td>Macho</td>\n",
              "      <td>Tierralta</td>\n",
              "    </tr>\n",
              "    <tr>\n",
              "      <th>Urbano</th>\n",
              "      <td>Artibeus planirostris</td>\n",
              "      <td>Macho</td>\n",
              "      <td>Montería</td>\n",
              "    </tr>\n",
              "  </tbody>\n",
              "</table>\n",
              "</div>"
            ],
            "text/plain": [
              "                         Especie   Sexo      Lugar\n",
              "Urb/Rural                                         \n",
              "Rural      Artibeus planirostris  Macho  Tierralta\n",
              "Urbano     Artibeus planirostris  Macho   Montería"
            ]
          },
          "metadata": {
            "tags": []
          },
          "execution_count": 11
        }
      ]
    },
    {
      "cell_type": "markdown",
      "metadata": {
        "id": "b9QUOeL63Tdc"
      },
      "source": [
        "*Tanto en entornos Rurales como Urbanos la especie más común es el Artibeus planirostris, el sexo más común es el masculino*"
      ]
    },
    {
      "cell_type": "code",
      "metadata": {
        "colab": {
          "base_uri": "https://localhost:8080/",
          "height": 718
        },
        "id": "5vw2PEXS9m3q",
        "outputId": "98bdbfb2-7322-47c4-b3ed-739285dbe1d5"
      },
      "source": [
        "bats[['Conteo','Urb/Rural']].groupby(['Urb/Rural']).sum().sort_values(by='Conteo',ascending=True).plot(kind='pie',y='Conteo', figsize=(12,12),colormap='Accent',fontsize=14,legend=False,ylabel='')\n",
        "plt.title('Cantidad de Murcielagos por Entorno',fontdict={'fontsize':18})"
      ],
      "execution_count": null,
      "outputs": [
        {
          "output_type": "execute_result",
          "data": {
            "text/plain": [
              "Text(0.5, 1.0, 'Cantidad de Murcielagos por Entorno')"
            ]
          },
          "metadata": {
            "tags": []
          },
          "execution_count": 12
        },
        {
          "output_type": "display_data",
          "data": {
            "image/png": "[encoded data removed]",
            "text/plain": [
              "<Figure size 864x864 with 1 Axes>"
            ]
          },
          "metadata": {
            "tags": []
          }
        }
      ]
    },
    {
      "cell_type": "markdown",
      "metadata": {
        "id": "z6WVOEOP-q_T"
      },
      "source": [
        "*Los muestreos fueron en areas Urbanas mayoritariamente.*"
      ]
    },
    {
      "cell_type": "code",
      "metadata": {
        "colab": {
          "base_uri": "https://localhost:8080/",
          "height": 133
        },
        "id": "rRpZw3eKw7KJ",
        "outputId": "e1c51413-959a-4253-a132-82222840a575"
      },
      "source": [
        "bats[['Especie','Urb/Rural','Sexo','Lugar']].groupby(['Sexo']).agg(lambda x:x.value_counts().index[0])"
      ],
      "execution_count": null,
      "outputs": [
        {
          "output_type": "execute_result",
          "data": {
            "text/html": [
              "<div>\n",
              "<style scoped>\n",
              "    .dataframe tbody tr th:only-of-type {\n",
              "        vertical-align: middle;\n",
              "    }\n",
              "\n",
              "    .dataframe tbody tr th {\n",
              "        vertical-align: top;\n",
              "    }\n",
              "\n",
              "    .dataframe thead th {\n",
              "        text-align: right;\n",
              "    }\n",
              "</style>\n",
              "<table border=\"1\" class=\"dataframe\">\n",
              "  <thead>\n",
              "    <tr style=\"text-align: right;\">\n",
              "      <th></th>\n",
              "      <th>Especie</th>\n",
              "      <th>Urb/Rural</th>\n",
              "      <th>Lugar</th>\n",
              "    </tr>\n",
              "    <tr>\n",
              "      <th>Sexo</th>\n",
              "      <th></th>\n",
              "      <th></th>\n",
              "      <th></th>\n",
              "    </tr>\n",
              "  </thead>\n",
              "  <tbody>\n",
              "    <tr>\n",
              "      <th>Hembra</th>\n",
              "      <td>Artibeus planirostris</td>\n",
              "      <td>Urbano</td>\n",
              "      <td>Montería</td>\n",
              "    </tr>\n",
              "    <tr>\n",
              "      <th>Macho</th>\n",
              "      <td>Artibeus planirostris</td>\n",
              "      <td>Urbano</td>\n",
              "      <td>Montería</td>\n",
              "    </tr>\n",
              "  </tbody>\n",
              "</table>\n",
              "</div>"
            ],
            "text/plain": [
              "                      Especie Urb/Rural     Lugar\n",
              "Sexo                                             \n",
              "Hembra  Artibeus planirostris    Urbano  Montería\n",
              "Macho   Artibeus planirostris    Urbano  Montería"
            ]
          },
          "metadata": {
            "tags": []
          },
          "execution_count": 13
        }
      ]
    },
    {
      "cell_type": "markdown",
      "metadata": {
        "id": "rj_Wk5to4Bzv"
      },
      "source": [
        "*En Montería, entornos Urbanos, la especie Artibeus planirostris fueron las caracteristicas más representativas que compartían tanto machos como hembras.*"
      ]
    },
    {
      "cell_type": "code",
      "metadata": {
        "colab": {
          "base_uri": "https://localhost:8080/",
          "height": 718
        },
        "id": "couy2Crj-KS4",
        "outputId": "50b9231a-f967-44e7-9fcb-59dfb377498f"
      },
      "source": [
        "bats[['Conteo','Sexo']].groupby(['Sexo']).sum().sort_values(by='Conteo',ascending=True).plot(kind='pie',y='Conteo', figsize=(12,12),colormap='Pastel1',fontsize=14,legend=False,ylabel='')\n",
        "plt.title('Cantidad de Murcielagos por Sexo',fontdict={'fontsize':18})"
      ],
      "execution_count": null,
      "outputs": [
        {
          "output_type": "execute_result",
          "data": {
            "text/plain": [
              "Text(0.5, 1.0, 'Cantidad de Murcielagos por Sexo')"
            ]
          },
          "metadata": {
            "tags": []
          },
          "execution_count": 14
        },
        {
          "output_type": "display_data",
          "data": {
            "image/png": "[encoded data removed]",
            "text/plain": [
              "<Figure size 864x864 with 1 Axes>"
            ]
          },
          "metadata": {
            "tags": []
          }
        }
      ]
    },
    {
      "cell_type": "markdown",
      "metadata": {
        "id": "-BUhHuqw-gIL"
      },
      "source": [
        "*La mayoría de Murcielagos recolectados tuvo Sexo Marculino*"
      ]
    },
    {
      "cell_type": "code",
      "metadata": {
        "colab": {
          "base_uri": "https://localhost:8080/",
          "height": 277
        },
        "id": "e4wqzLNGPcvI",
        "outputId": "648b520e-77ae-4113-8c9d-facedae71202"
      },
      "source": [
        "df = bats.copy(deep=True)\n",
        "# max_amount = float(df['export_val'].max())\n",
        "df = df[['lat','lon','Lugar']].groupby('Lugar').max()\n",
        "\n",
        "df = df.merge(bats[['Especie','Lugar']].groupby(['Lugar']).agg(lambda x:x.value_counts().index[0]) ,how='inner',on='Lugar')\n",
        "df = df.merge(bats[['Sexo','Lugar']].groupby(['Lugar']).agg(lambda x:x.value_counts().index[0]) ,how='inner',on='Lugar')\n",
        "df = df.merge(bats[['Conteo','Lugar']].groupby(['Lugar']).sum(),how='inner',on='Lugar')\n",
        "\n",
        "\n",
        "#df = df.merge(bats[['RESULTADO PCR','Lugar']].loc[bats['RESULTADO PCR']=='POSITIVO'].groupby(['Lugar']).agg(lambda x:x.value_counts().index[0])\n",
        "\n",
        "df = df.reset_index()\n",
        "df"
      ],
      "execution_count": null,
      "outputs": [
        {
          "output_type": "execute_result",
          "data": {
            "text/html": [
              "<div>\n",
              "<style scoped>\n",
              "    .dataframe tbody tr th:only-of-type {\n",
              "        vertical-align: middle;\n",
              "    }\n",
              "\n",
              "    .dataframe tbody tr th {\n",
              "        vertical-align: top;\n",
              "    }\n",
              "\n",
              "    .dataframe thead th {\n",
              "        text-align: right;\n",
              "    }\n",
              "</style>\n",
              "<table border=\"1\" class=\"dataframe\">\n",
              "  <thead>\n",
              "    <tr style=\"text-align: right;\">\n",
              "      <th></th>\n",
              "      <th>Lugar</th>\n",
              "      <th>lat</th>\n",
              "      <th>lon</th>\n",
              "      <th>Especie</th>\n",
              "      <th>Sexo</th>\n",
              "      <th>Conteo</th>\n",
              "    </tr>\n",
              "  </thead>\n",
              "  <tbody>\n",
              "    <tr>\n",
              "      <th>0</th>\n",
              "      <td>Cereté</td>\n",
              "      <td>8.885228</td>\n",
              "      <td>-75.792242</td>\n",
              "      <td>Artibeus planirostris</td>\n",
              "      <td>Macho</td>\n",
              "      <td>17</td>\n",
              "    </tr>\n",
              "    <tr>\n",
              "      <th>1</th>\n",
              "      <td>Lorica</td>\n",
              "      <td>9.239458</td>\n",
              "      <td>-75.813979</td>\n",
              "      <td>Artibeus planirostris</td>\n",
              "      <td>Hembra</td>\n",
              "      <td>8</td>\n",
              "    </tr>\n",
              "    <tr>\n",
              "      <th>2</th>\n",
              "      <td>Montelibano</td>\n",
              "      <td>7.980053</td>\n",
              "      <td>-75.416720</td>\n",
              "      <td>Artibeus planirostris</td>\n",
              "      <td>Macho</td>\n",
              "      <td>10</td>\n",
              "    </tr>\n",
              "    <tr>\n",
              "      <th>3</th>\n",
              "      <td>Montería</td>\n",
              "      <td>8.755892</td>\n",
              "      <td>-75.887029</td>\n",
              "      <td>Artibeus planirostris</td>\n",
              "      <td>Macho</td>\n",
              "      <td>37</td>\n",
              "    </tr>\n",
              "    <tr>\n",
              "      <th>4</th>\n",
              "      <td>Planeta Rica</td>\n",
              "      <td>8.407674</td>\n",
              "      <td>-75.584046</td>\n",
              "      <td>Artibeus planirostris</td>\n",
              "      <td>Hembra</td>\n",
              "      <td>5</td>\n",
              "    </tr>\n",
              "    <tr>\n",
              "      <th>5</th>\n",
              "      <td>Sahagun</td>\n",
              "      <td>8.947296</td>\n",
              "      <td>-75.443497</td>\n",
              "      <td>Artibeus planirostris</td>\n",
              "      <td>Macho</td>\n",
              "      <td>8</td>\n",
              "    </tr>\n",
              "    <tr>\n",
              "      <th>6</th>\n",
              "      <td>San Antero</td>\n",
              "      <td>9.373016</td>\n",
              "      <td>-75.759506</td>\n",
              "      <td>Artibeus planirostris</td>\n",
              "      <td>Macho</td>\n",
              "      <td>23</td>\n",
              "    </tr>\n",
              "    <tr>\n",
              "      <th>7</th>\n",
              "      <td>Tierralta</td>\n",
              "      <td>8.171734</td>\n",
              "      <td>-76.059376</td>\n",
              "      <td>Artibeus planirostris</td>\n",
              "      <td>Macho</td>\n",
              "      <td>23</td>\n",
              "    </tr>\n",
              "  </tbody>\n",
              "</table>\n",
              "</div>"
            ],
            "text/plain": [
              "          Lugar       lat        lon                Especie    Sexo  Conteo\n",
              "0        Cereté  8.885228 -75.792242  Artibeus planirostris   Macho      17\n",
              "1        Lorica  9.239458 -75.813979  Artibeus planirostris  Hembra       8\n",
              "2   Montelibano  7.980053 -75.416720  Artibeus planirostris   Macho      10\n",
              "3      Montería  8.755892 -75.887029  Artibeus planirostris   Macho      37\n",
              "4  Planeta Rica  8.407674 -75.584046  Artibeus planirostris  Hembra       5\n",
              "5       Sahagun  8.947296 -75.443497  Artibeus planirostris   Macho       8\n",
              "6    San Antero  9.373016 -75.759506  Artibeus planirostris   Macho      23\n",
              "7     Tierralta  8.171734 -76.059376  Artibeus planirostris   Macho      23"
            ]
          },
          "metadata": {
            "tags": []
          },
          "execution_count": 16
        }
      ]
    },
    {
      "cell_type": "code",
      "metadata": {
        "colab": {
          "base_uri": "https://localhost:8080/",
          "height": 521
        },
        "cellView": "form",
        "id": "Dfb1_1MTQsib",
        "outputId": "a353192e-a4aa-4e2d-f984-4dfef0130e24"
      },
      "source": [
        "#@title #Conteo por Municipio\n",
        "folium_hmap = folium.Figure(width=1000, height=500)\n",
        "m = folium.Map(location=[8.3344713,-75.6666238],\n",
        "                         width='100%',\n",
        "                         height='100%',\n",
        "                         zoom_start=8,#Por defecto es 10\n",
        "                         tiles=\"OpenStreetMap\").add_to(folium_hmap)\n",
        "\n",
        "#folium_hmap.fit_bounds([[6.4, -78], [10.4, -73]])\n",
        "data = df\n",
        "for i in range(0,len(data)):\n",
        "   folium.Circle(\n",
        "      location=[data.iloc[i]['lat'], data.iloc[i]['lon']],\n",
        "      popup=str(data.iloc[i]['Lugar'])+\n",
        "      '\\nTotal de Murcielagos Recolectados: \\n'+\n",
        "      str(data.iloc[i]['Conteo'])+\n",
        "      '\\nEspecie más Común: \\n'+\n",
        "      str(data.iloc[i]['Especie'])+\n",
        "      '\\nSexo más Común: \\n'+\n",
        "      str(data.iloc[i]['Sexo']),\n",
        "      radius=float(data.iloc[i]['Conteo'])*400,\n",
        "      color='purple',\n",
        "      fill=True,\n",
        "      fill_color='purple'\n",
        "   ).add_to(m)\n",
        "\n",
        "folium_hmap"
      ],
      "execution_count": null,
      "outputs": [
        {
          "output_type": "execute_result",
          "data": {
            "text/html": [
              "<iframe src=\"about:blank\" width=\"1000\" height=\"500\"style=\"border:none !important;\" data-html=%3C%21DOCTYPE%20html%3E%0A%3Chead%3E%20%20%20%20%0A%20%20%20%20%3Cmeta%20http-equiv%3D%22content-type%22%20content%3D%22text/html%3B%20charset%3DUTF-8%22%20/%3E%0A%20%20%20%20%3Cscript%3EL_PREFER_CANVAS%3Dfalse%3B%20L_NO_TOUCH%3Dfalse%3B%20L_DISABLE_3D%3Dfalse%3B%3C/script%3E%0A%20%20%20%20%3Cscript%20src%3D%22https%3A//cdn.jsdelivr.net/npm/leaflet%401.4.0/dist/leaflet.js%22%3E%3C/script%3E%0A%20%20%20%20%3Cscript%20src%3D%22https%3A//code.jquery.com/jquery-1.12.4.min.js%22%3E%3C/script%3E%0A%20%20%20%20%3Cscript%20src%3D%22https%3A//maxcdn.bootstrapcdn.com/bootstrap/3.2.0/js/bootstrap.min.js%22%3E%3C/script%3E%0A%20%20%20%20%3Cscript%20src%3D%22https%3A//cdnjs.cloudflare.com/ajax/libs/Leaflet.awesome-markers/2.0.2/leaflet.awesome-markers.js%22%3E%3C/script%3E%0A%20%20%20%20%3Clink%20rel%3D%22stylesheet%22%20href%3D%22https%3A//cdn.jsdelivr.net/npm/leaflet%401.4.0/dist/leaflet.css%22/%3E%0A%20%20%20%20%3Clink%20rel%3D%22stylesheet%22%20href%3D%22https%3A//maxcdn.bootstrapcdn.com/bootstrap/3.2.0/css/bootstrap.min.css%22/%3E%0A%20%20%20%20%3Clink%20rel%3D%22stylesheet%22%20href%3D%22https%3A//maxcdn.bootstrapcdn.com/bootstrap/3.2.0/css/bootstrap-theme.min.css%22/%3E%0A%20%20%20%20%3Clink%20rel%3D%22stylesheet%22%20href%3D%22https%3A//maxcdn.bootstrapcdn.com/font-awesome/4.6.3/css/font-awesome.min.css%22/%3E%0A%20%20%20%20%3Clink%20rel%3D%22stylesheet%22%20href%3D%22https%3A//cdnjs.cloudflare.com/ajax/libs/Leaflet.awesome-markers/2.0.2/leaflet.awesome-markers.css%22/%3E%0A%20%20%20%20%3Clink%20rel%3D%22stylesheet%22%20href%3D%22https%3A//rawcdn.githack.com/python-visualization/folium/master/folium/templates/leaflet.awesome.rotate.css%22/%3E%0A%20%20%20%20%3Cstyle%3Ehtml%2C%20body%20%7Bwidth%3A%20100%25%3Bheight%3A%20100%25%3Bmargin%3A%200%3Bpadding%3A%200%3B%7D%3C/style%3E%0A%20%20%20%20%3Cstyle%3E%23map%20%7Bposition%3Aabsolute%3Btop%3A0%3Bbottom%3A0%3Bright%3A0%3Bleft%3A0%3B%7D%3C/style%3E%0A%20%20%20%20%0A%20%20%20%20%3Cmeta%20name%3D%22viewport%22%20content%3D%22width%3Ddevice-width%2C%0A%20%20%20%20%20%20%20%20initial-scale%3D1.0%2C%20maximum-scale%3D1.0%2C%20user-scalable%3Dno%22%20/%3E%0A%20%20%20%20%3Cstyle%3E%23map_596b331ee7bd4438a9b440960905d4d4%20%7B%0A%20%20%20%20%20%20%20%20position%3A%20relative%3B%0A%20%20%20%20%20%20%20%20width%3A%20100.0%25%3B%0A%20%20%20%20%20%20%20%20height%3A%20100.0%25%3B%0A%20%20%20%20%20%20%20%20left%3A%200.0%25%3B%0A%20%20%20%20%20%20%20%20top%3A%200.0%25%3B%0A%20%20%20%20%20%20%20%20%7D%0A%20%20%20%20%3C/style%3E%0A%3C/head%3E%0A%3Cbody%3E%20%20%20%20%0A%20%20%20%20%0A%20%20%20%20%3Cdiv%20class%3D%22folium-map%22%20id%3D%22map_596b331ee7bd4438a9b440960905d4d4%22%20%3E%3C/div%3E%0A%3C/body%3E%0A%3Cscript%3E%20%20%20%20%0A%20%20%20%20%0A%20%20%20%20%0A%20%20%20%20%20%20%20%20var%20bounds%20%3D%20null%3B%0A%20%20%20%20%0A%0A%20%20%20%20var%20map_596b331ee7bd4438a9b440960905d4d4%20%3D%20L.map%28%0A%20%20%20%20%20%20%20%20%27map_596b331ee7bd4438a9b440960905d4d4%27%2C%20%7B%0A%20%20%20%20%20%20%20%20center%3A%20%5B8.3344713%2C%20-75.6666238%5D%2C%0A%20%20%20%20%20%20%20%20zoom%3A%208%2C%0A%20%20%20%20%20%20%20%20maxBounds%3A%20bounds%2C%0A%20%20%20%20%20%20%20%20layers%3A%20%5B%5D%2C%0A%20%20%20%20%20%20%20%20worldCopyJump%3A%20false%2C%0A%20%20%20%20%20%20%20%20crs%3A%20L.CRS.EPSG3857%2C%0A%20%20%20%20%20%20%20%20zoomControl%3A%20true%2C%0A%20%20%20%20%20%20%20%20%7D%29%3B%0A%0A%0A%20%20%20%20%0A%20%20%20%20var%20tile_layer_850e491c74044b2e9a56af56500ef70d%20%3D%20L.tileLayer%28%0A%20%20%20%20%20%20%20%20%27https%3A//%7Bs%7D.tile.openstreetmap.org/%7Bz%7D/%7Bx%7D/%7By%7D.png%27%2C%0A%20%20%20%20%20%20%20%20%7B%0A%20%20%20%20%20%20%20%20%22attribution%22%3A%20null%2C%0A%20%20%20%20%20%20%20%20%22detectRetina%22%3A%20false%2C%0A%20%20%20%20%20%20%20%20%22maxNativeZoom%22%3A%2018%2C%0A%20%20%20%20%20%20%20%20%22maxZoom%22%3A%2018%2C%0A%20%20%20%20%20%20%20%20%22minZoom%22%3A%200%2C%0A%20%20%20%20%20%20%20%20%22noWrap%22%3A%20false%2C%0A%20%20%20%20%20%20%20%20%22opacity%22%3A%201%2C%0A%20%20%20%20%20%20%20%20%22subdomains%22%3A%20%22abc%22%2C%0A%20%20%20%20%20%20%20%20%22tms%22%3A%20false%0A%7D%29.addTo%28map_596b331ee7bd4438a9b440960905d4d4%29%3B%0A%20%20%20%20%0A%0A%20%20%20%20%20%20%20%20%20%20%20%20var%20circle_9ef695a2eb1b43468103b88320b34511%20%3D%20L.circle%28%0A%20%20%20%20%20%20%20%20%20%20%20%20%20%20%20%20%5B8.8852282%2C%20-75.7922421%5D%2C%0A%20%20%20%20%20%20%20%20%20%20%20%20%20%20%20%20%7B%0A%20%20%22bubblingMouseEvents%22%3A%20true%2C%0A%20%20%22color%22%3A%20%22purple%22%2C%0A%20%20%22dashArray%22%3A%20null%2C%0A%20%20%22dashOffset%22%3A%20null%2C%0A%20%20%22fill%22%3A%20true%2C%0A%20%20%22fillColor%22%3A%20%22purple%22%2C%0A%20%20%22fillOpacity%22%3A%200.2%2C%0A%20%20%22fillRule%22%3A%20%22evenodd%22%2C%0A%20%20%22lineCap%22%3A%20%22round%22%2C%0A%20%20%22lineJoin%22%3A%20%22round%22%2C%0A%20%20%22opacity%22%3A%201.0%2C%0A%20%20%22radius%22%3A%206800.0%2C%0A%20%20%22stroke%22%3A%20true%2C%0A%20%20%22weight%22%3A%203%0A%7D%0A%20%20%20%20%20%20%20%20%20%20%20%20%20%20%20%20%29%0A%20%20%20%20%20%20%20%20%20%20%20%20%20%20%20%20.addTo%28map_596b331ee7bd4438a9b440960905d4d4%29%3B%0A%20%20%20%20%20%20%20%20%20%20%20%20%0A%20%20%20%20%0A%20%20%20%20%20%20%20%20%20%20%20%20var%20popup_586fafec426f49b58db14e423684daf5%20%3D%20L.popup%28%7BmaxWidth%3A%20%27100%25%27%0A%20%20%20%20%20%20%20%20%20%20%20%20%0A%20%20%20%20%20%20%20%20%20%20%20%20%7D%29%3B%0A%0A%20%20%20%20%20%20%20%20%20%20%20%20%0A%20%20%20%20%20%20%20%20%20%20%20%20%20%20%20%20var%20html_00699b859b694150a1603cbc860a3b99%20%3D%20%24%28%60%3Cdiv%20id%3D%22html_00699b859b694150a1603cbc860a3b99%22%20style%3D%22width%3A%20100.0%25%3B%20height%3A%20100.0%25%3B%22%3ECeret%C3%A9%20Total%20de%20Murcielagos%20Recolectados%3A%20%2017%20Especie%20m%C3%A1s%20Com%C3%BAn%3A%20%20Artibeus%20planirostris%20Sexo%20m%C3%A1s%20Com%C3%BAn%3A%20%20Macho%3C/div%3E%60%29%5B0%5D%3B%0A%20%20%20%20%20%20%20%20%20%20%20%20%20%20%20%20popup_586fafec426f49b58db14e423684daf5.setContent%28html_00699b859b694150a1603cbc860a3b99%29%3B%0A%20%20%20%20%20%20%20%20%20%20%20%20%0A%0A%20%20%20%20%20%20%20%20%20%20%20%20circle_9ef695a2eb1b43468103b88320b34511.bindPopup%28popup_586fafec426f49b58db14e423684daf5%29%0A%20%20%20%20%20%20%20%20%20%20%20%20%3B%0A%0A%20%20%20%20%20%20%20%20%20%20%20%20%0A%20%20%20%20%20%20%20%20%0A%20%20%20%20%0A%0A%20%20%20%20%20%20%20%20%20%20%20%20var%20circle_ae909b9f8de54d26bc4f71a24124bdac%20%3D%20L.circle%28%0A%20%20%20%20%20%20%20%20%20%20%20%20%20%20%20%20%5B9.2394583%2C%20-75.8139786%5D%2C%0A%20%20%20%20%20%20%20%20%20%20%20%20%20%20%20%20%7B%0A%20%20%22bubblingMouseEvents%22%3A%20true%2C%0A%20%20%22color%22%3A%20%22purple%22%2C%0A%20%20%22dashArray%22%3A%20null%2C%0A%20%20%22dashOffset%22%3A%20null%2C%0A%20%20%22fill%22%3A%20true%2C%0A%20%20%22fillColor%22%3A%20%22purple%22%2C%0A%20%20%22fillOpacity%22%3A%200.2%2C%0A%20%20%22fillRule%22%3A%20%22evenodd%22%2C%0A%20%20%22lineCap%22%3A%20%22round%22%2C%0A%20%20%22lineJoin%22%3A%20%22round%22%2C%0A%20%20%22opacity%22%3A%201.0%2C%0A%20%20%22radius%22%3A%203200.0%2C%0A%20%20%22stroke%22%3A%20true%2C%0A%20%20%22weight%22%3A%203%0A%7D%0A%20%20%20%20%20%20%20%20%20%20%20%20%20%20%20%20%29%0A%20%20%20%20%20%20%20%20%20%20%20%20%20%20%20%20.addTo%28map_596b331ee7bd4438a9b440960905d4d4%29%3B%0A%20%20%20%20%20%20%20%20%20%20%20%20%0A%20%20%20%20%0A%20%20%20%20%20%20%20%20%20%20%20%20var%20popup_816e8d4d333d4d9fabb2140b2d5267fc%20%3D%20L.popup%28%7BmaxWidth%3A%20%27100%25%27%0A%20%20%20%20%20%20%20%20%20%20%20%20%0A%20%20%20%20%20%20%20%20%20%20%20%20%7D%29%3B%0A%0A%20%20%20%20%20%20%20%20%20%20%20%20%0A%20%20%20%20%20%20%20%20%20%20%20%20%20%20%20%20var%20html_3e72eb8f1b0d4c9ba7041a1eda4485af%20%3D%20%24%28%60%3Cdiv%20id%3D%22html_3e72eb8f1b0d4c9ba7041a1eda4485af%22%20style%3D%22width%3A%20100.0%25%3B%20height%3A%20100.0%25%3B%22%3ELorica%20Total%20de%20Murcielagos%20Recolectados%3A%20%208%20Especie%20m%C3%A1s%20Com%C3%BAn%3A%20%20Artibeus%20planirostris%20Sexo%20m%C3%A1s%20Com%C3%BAn%3A%20%20Hembra%3C/div%3E%60%29%5B0%5D%3B%0A%20%20%20%20%20%20%20%20%20%20%20%20%20%20%20%20popup_816e8d4d333d4d9fabb2140b2d5267fc.setContent%28html_3e72eb8f1b0d4c9ba7041a1eda4485af%29%3B%0A%20%20%20%20%20%20%20%20%20%20%20%20%0A%0A%20%20%20%20%20%20%20%20%20%20%20%20circle_ae909b9f8de54d26bc4f71a24124bdac.bindPopup%28popup_816e8d4d333d4d9fabb2140b2d5267fc%29%0A%20%20%20%20%20%20%20%20%20%20%20%20%3B%0A%0A%20%20%20%20%20%20%20%20%20%20%20%20%0A%20%20%20%20%20%20%20%20%0A%20%20%20%20%0A%0A%20%20%20%20%20%20%20%20%20%20%20%20var%20circle_e39890a2ea8a4caaa945cad0de9faf5a%20%3D%20L.circle%28%0A%20%20%20%20%20%20%20%20%20%20%20%20%20%20%20%20%5B7.9800534%2C%20-75.4167198%5D%2C%0A%20%20%20%20%20%20%20%20%20%20%20%20%20%20%20%20%7B%0A%20%20%22bubblingMouseEvents%22%3A%20true%2C%0A%20%20%22color%22%3A%20%22purple%22%2C%0A%20%20%22dashArray%22%3A%20null%2C%0A%20%20%22dashOffset%22%3A%20null%2C%0A%20%20%22fill%22%3A%20true%2C%0A%20%20%22fillColor%22%3A%20%22purple%22%2C%0A%20%20%22fillOpacity%22%3A%200.2%2C%0A%20%20%22fillRule%22%3A%20%22evenodd%22%2C%0A%20%20%22lineCap%22%3A%20%22round%22%2C%0A%20%20%22lineJoin%22%3A%20%22round%22%2C%0A%20%20%22opacity%22%3A%201.0%2C%0A%20%20%22radius%22%3A%204000.0%2C%0A%20%20%22stroke%22%3A%20true%2C%0A%20%20%22weight%22%3A%203%0A%7D%0A%20%20%20%20%20%20%20%20%20%20%20%20%20%20%20%20%29%0A%20%20%20%20%20%20%20%20%20%20%20%20%20%20%20%20.addTo%28map_596b331ee7bd4438a9b440960905d4d4%29%3B%0A%20%20%20%20%20%20%20%20%20%20%20%20%0A%20%20%20%20%0A%20%20%20%20%20%20%20%20%20%20%20%20var%20popup_526a683397fb401f8a68c832d5b5f60a%20%3D%20L.popup%28%7BmaxWidth%3A%20%27100%25%27%0A%20%20%20%20%20%20%20%20%20%20%20%20%0A%20%20%20%20%20%20%20%20%20%20%20%20%7D%29%3B%0A%0A%20%20%20%20%20%20%20%20%20%20%20%20%0A%20%20%20%20%20%20%20%20%20%20%20%20%20%20%20%20var%20html_ef337c48c35e40a48cae77fa0e00d9ce%20%3D%20%24%28%60%3Cdiv%20id%3D%22html_ef337c48c35e40a48cae77fa0e00d9ce%22%20style%3D%22width%3A%20100.0%25%3B%20height%3A%20100.0%25%3B%22%3EMontelibano%20Total%20de%20Murcielagos%20Recolectados%3A%20%2010%20Especie%20m%C3%A1s%20Com%C3%BAn%3A%20%20Artibeus%20planirostris%20Sexo%20m%C3%A1s%20Com%C3%BAn%3A%20%20Macho%3C/div%3E%60%29%5B0%5D%3B%0A%20%20%20%20%20%20%20%20%20%20%20%20%20%20%20%20popup_526a683397fb401f8a68c832d5b5f60a.setContent%28html_ef337c48c35e40a48cae77fa0e00d9ce%29%3B%0A%20%20%20%20%20%20%20%20%20%20%20%20%0A%0A%20%20%20%20%20%20%20%20%20%20%20%20circle_e39890a2ea8a4caaa945cad0de9faf5a.bindPopup%28popup_526a683397fb401f8a68c832d5b5f60a%29%0A%20%20%20%20%20%20%20%20%20%20%20%20%3B%0A%0A%20%20%20%20%20%20%20%20%20%20%20%20%0A%20%20%20%20%20%20%20%20%0A%20%20%20%20%0A%0A%20%20%20%20%20%20%20%20%20%20%20%20var%20circle_be9486080ba8410193dc0c27ed5840aa%20%3D%20L.circle%28%0A%20%20%20%20%20%20%20%20%20%20%20%20%20%20%20%20%5B8.7558921%2C%20-75.887029%5D%2C%0A%20%20%20%20%20%20%20%20%20%20%20%20%20%20%20%20%7B%0A%20%20%22bubblingMouseEvents%22%3A%20true%2C%0A%20%20%22color%22%3A%20%22purple%22%2C%0A%20%20%22dashArray%22%3A%20null%2C%0A%20%20%22dashOffset%22%3A%20null%2C%0A%20%20%22fill%22%3A%20true%2C%0A%20%20%22fillColor%22%3A%20%22purple%22%2C%0A%20%20%22fillOpacity%22%3A%200.2%2C%0A%20%20%22fillRule%22%3A%20%22evenodd%22%2C%0A%20%20%22lineCap%22%3A%20%22round%22%2C%0A%20%20%22lineJoin%22%3A%20%22round%22%2C%0A%20%20%22opacity%22%3A%201.0%2C%0A%20%20%22radius%22%3A%2014800.0%2C%0A%20%20%22stroke%22%3A%20true%2C%0A%20%20%22weight%22%3A%203%0A%7D%0A%20%20%20%20%20%20%20%20%20%20%20%20%20%20%20%20%29%0A%20%20%20%20%20%20%20%20%20%20%20%20%20%20%20%20.addTo%28map_596b331ee7bd4438a9b440960905d4d4%29%3B%0A%20%20%20%20%20%20%20%20%20%20%20%20%0A%20%20%20%20%0A%20%20%20%20%20%20%20%20%20%20%20%20var%20popup_1191508accbb4280a57e4dc322787a6b%20%3D%20L.popup%28%7BmaxWidth%3A%20%27100%25%27%0A%20%20%20%20%20%20%20%20%20%20%20%20%0A%20%20%20%20%20%20%20%20%20%20%20%20%7D%29%3B%0A%0A%20%20%20%20%20%20%20%20%20%20%20%20%0A%20%20%20%20%20%20%20%20%20%20%20%20%20%20%20%20var%20html_c7e951164f5640e49a88ca4886af2e0b%20%3D%20%24%28%60%3Cdiv%20id%3D%22html_c7e951164f5640e49a88ca4886af2e0b%22%20style%3D%22width%3A%20100.0%25%3B%20height%3A%20100.0%25%3B%22%3EMonter%C3%ADa%20Total%20de%20Murcielagos%20Recolectados%3A%20%2037%20Especie%20m%C3%A1s%20Com%C3%BAn%3A%20%20Artibeus%20planirostris%20Sexo%20m%C3%A1s%20Com%C3%BAn%3A%20%20Macho%3C/div%3E%60%29%5B0%5D%3B%0A%20%20%20%20%20%20%20%20%20%20%20%20%20%20%20%20popup_1191508accbb4280a57e4dc322787a6b.setContent%28html_c7e951164f5640e49a88ca4886af2e0b%29%3B%0A%20%20%20%20%20%20%20%20%20%20%20%20%0A%0A%20%20%20%20%20%20%20%20%20%20%20%20circle_be9486080ba8410193dc0c27ed5840aa.bindPopup%28popup_1191508accbb4280a57e4dc322787a6b%29%0A%20%20%20%20%20%20%20%20%20%20%20%20%3B%0A%0A%20%20%20%20%20%20%20%20%20%20%20%20%0A%20%20%20%20%20%20%20%20%0A%20%20%20%20%0A%0A%20%20%20%20%20%20%20%20%20%20%20%20var%20circle_2ca1954d5fb6428797e56c409720f528%20%3D%20L.circle%28%0A%20%20%20%20%20%20%20%20%20%20%20%20%20%20%20%20%5B8.4076739%2C%20-75.5840456%5D%2C%0A%20%20%20%20%20%20%20%20%20%20%20%20%20%20%20%20%7B%0A%20%20%22bubblingMouseEvents%22%3A%20true%2C%0A%20%20%22color%22%3A%20%22purple%22%2C%0A%20%20%22dashArray%22%3A%20null%2C%0A%20%20%22dashOffset%22%3A%20null%2C%0A%20%20%22fill%22%3A%20true%2C%0A%20%20%22fillColor%22%3A%20%22purple%22%2C%0A%20%20%22fillOpacity%22%3A%200.2%2C%0A%20%20%22fillRule%22%3A%20%22evenodd%22%2C%0A%20%20%22lineCap%22%3A%20%22round%22%2C%0A%20%20%22lineJoin%22%3A%20%22round%22%2C%0A%20%20%22opacity%22%3A%201.0%2C%0A%20%20%22radius%22%3A%202000.0%2C%0A%20%20%22stroke%22%3A%20true%2C%0A%20%20%22weight%22%3A%203%0A%7D%0A%20%20%20%20%20%20%20%20%20%20%20%20%20%20%20%20%29%0A%20%20%20%20%20%20%20%20%20%20%20%20%20%20%20%20.addTo%28map_596b331ee7bd4438a9b440960905d4d4%29%3B%0A%20%20%20%20%20%20%20%20%20%20%20%20%0A%20%20%20%20%0A%20%20%20%20%20%20%20%20%20%20%20%20var%20popup_15647eddc5f34089a998b0602170864c%20%3D%20L.popup%28%7BmaxWidth%3A%20%27100%25%27%0A%20%20%20%20%20%20%20%20%20%20%20%20%0A%20%20%20%20%20%20%20%20%20%20%20%20%7D%29%3B%0A%0A%20%20%20%20%20%20%20%20%20%20%20%20%0A%20%20%20%20%20%20%20%20%20%20%20%20%20%20%20%20var%20html_de0a1bcfca5b4bde98d88b4c3c97993d%20%3D%20%24%28%60%3Cdiv%20id%3D%22html_de0a1bcfca5b4bde98d88b4c3c97993d%22%20style%3D%22width%3A%20100.0%25%3B%20height%3A%20100.0%25%3B%22%3EPlaneta%20Rica%20Total%20de%20Murcielagos%20Recolectados%3A%20%205%20Especie%20m%C3%A1s%20Com%C3%BAn%3A%20%20Artibeus%20planirostris%20Sexo%20m%C3%A1s%20Com%C3%BAn%3A%20%20Hembra%3C/div%3E%60%29%5B0%5D%3B%0A%20%20%20%20%20%20%20%20%20%20%20%20%20%20%20%20popup_15647eddc5f34089a998b0602170864c.setContent%28html_de0a1bcfca5b4bde98d88b4c3c97993d%29%3B%0A%20%20%20%20%20%20%20%20%20%20%20%20%0A%0A%20%20%20%20%20%20%20%20%20%20%20%20circle_2ca1954d5fb6428797e56c409720f528.bindPopup%28popup_15647eddc5f34089a998b0602170864c%29%0A%20%20%20%20%20%20%20%20%20%20%20%20%3B%0A%0A%20%20%20%20%20%20%20%20%20%20%20%20%0A%20%20%20%20%20%20%20%20%0A%20%20%20%20%0A%0A%20%20%20%20%20%20%20%20%20%20%20%20var%20circle_b6eefe7ec08548019dbb57b83c13f17d%20%3D%20L.circle%28%0A%20%20%20%20%20%20%20%20%20%20%20%20%20%20%20%20%5B8.9472964%2C%20-75.4434972%5D%2C%0A%20%20%20%20%20%20%20%20%20%20%20%20%20%20%20%20%7B%0A%20%20%22bubblingMouseEvents%22%3A%20true%2C%0A%20%20%22color%22%3A%20%22purple%22%2C%0A%20%20%22dashArray%22%3A%20null%2C%0A%20%20%22dashOffset%22%3A%20null%2C%0A%20%20%22fill%22%3A%20true%2C%0A%20%20%22fillColor%22%3A%20%22purple%22%2C%0A%20%20%22fillOpacity%22%3A%200.2%2C%0A%20%20%22fillRule%22%3A%20%22evenodd%22%2C%0A%20%20%22lineCap%22%3A%20%22round%22%2C%0A%20%20%22lineJoin%22%3A%20%22round%22%2C%0A%20%20%22opacity%22%3A%201.0%2C%0A%20%20%22radius%22%3A%203200.0%2C%0A%20%20%22stroke%22%3A%20true%2C%0A%20%20%22weight%22%3A%203%0A%7D%0A%20%20%20%20%20%20%20%20%20%20%20%20%20%20%20%20%29%0A%20%20%20%20%20%20%20%20%20%20%20%20%20%20%20%20.addTo%28map_596b331ee7bd4438a9b440960905d4d4%29%3B%0A%20%20%20%20%20%20%20%20%20%20%20%20%0A%20%20%20%20%0A%20%20%20%20%20%20%20%20%20%20%20%20var%20popup_cd397f6c046145afab794d2b631bfd10%20%3D%20L.popup%28%7BmaxWidth%3A%20%27100%25%27%0A%20%20%20%20%20%20%20%20%20%20%20%20%0A%20%20%20%20%20%20%20%20%20%20%20%20%7D%29%3B%0A%0A%20%20%20%20%20%20%20%20%20%20%20%20%0A%20%20%20%20%20%20%20%20%20%20%20%20%20%20%20%20var%20html_b3aa07a3a7254ff8a9e5860bc831b8e1%20%3D%20%24%28%60%3Cdiv%20id%3D%22html_b3aa07a3a7254ff8a9e5860bc831b8e1%22%20style%3D%22width%3A%20100.0%25%3B%20height%3A%20100.0%25%3B%22%3ESahagun%20Total%20de%20Murcielagos%20Recolectados%3A%20%208%20Especie%20m%C3%A1s%20Com%C3%BAn%3A%20%20Artibeus%20planirostris%20Sexo%20m%C3%A1s%20Com%C3%BAn%3A%20%20Macho%3C/div%3E%60%29%5B0%5D%3B%0A%20%20%20%20%20%20%20%20%20%20%20%20%20%20%20%20popup_cd397f6c046145afab794d2b631bfd10.setContent%28html_b3aa07a3a7254ff8a9e5860bc831b8e1%29%3B%0A%20%20%20%20%20%20%20%20%20%20%20%20%0A%0A%20%20%20%20%20%20%20%20%20%20%20%20circle_b6eefe7ec08548019dbb57b83c13f17d.bindPopup%28popup_cd397f6c046145afab794d2b631bfd10%29%0A%20%20%20%20%20%20%20%20%20%20%20%20%3B%0A%0A%20%20%20%20%20%20%20%20%20%20%20%20%0A%20%20%20%20%20%20%20%20%0A%20%20%20%20%0A%0A%20%20%20%20%20%20%20%20%20%20%20%20var%20circle_60dd8bb3ea704ad086f44bc3398b3902%20%3D%20L.circle%28%0A%20%20%20%20%20%20%20%20%20%20%20%20%20%20%20%20%5B9.373016%2C%20-75.7595056%5D%2C%0A%20%20%20%20%20%20%20%20%20%20%20%20%20%20%20%20%7B%0A%20%20%22bubblingMouseEvents%22%3A%20true%2C%0A%20%20%22color%22%3A%20%22purple%22%2C%0A%20%20%22dashArray%22%3A%20null%2C%0A%20%20%22dashOffset%22%3A%20null%2C%0A%20%20%22fill%22%3A%20true%2C%0A%20%20%22fillColor%22%3A%20%22purple%22%2C%0A%20%20%22fillOpacity%22%3A%200.2%2C%0A%20%20%22fillRule%22%3A%20%22evenodd%22%2C%0A%20%20%22lineCap%22%3A%20%22round%22%2C%0A%20%20%22lineJoin%22%3A%20%22round%22%2C%0A%20%20%22opacity%22%3A%201.0%2C%0A%20%20%22radius%22%3A%209200.0%2C%0A%20%20%22stroke%22%3A%20true%2C%0A%20%20%22weight%22%3A%203%0A%7D%0A%20%20%20%20%20%20%20%20%20%20%20%20%20%20%20%20%29%0A%20%20%20%20%20%20%20%20%20%20%20%20%20%20%20%20.addTo%28map_596b331ee7bd4438a9b440960905d4d4%29%3B%0A%20%20%20%20%20%20%20%20%20%20%20%20%0A%20%20%20%20%0A%20%20%20%20%20%20%20%20%20%20%20%20var%20popup_0952b65e81f949148d500ce8ef2525e2%20%3D%20L.popup%28%7BmaxWidth%3A%20%27100%25%27%0A%20%20%20%20%20%20%20%20%20%20%20%20%0A%20%20%20%20%20%20%20%20%20%20%20%20%7D%29%3B%0A%0A%20%20%20%20%20%20%20%20%20%20%20%20%0A%20%20%20%20%20%20%20%20%20%20%20%20%20%20%20%20var%20html_16f9dd17e6714cedb76e1461fc7a2681%20%3D%20%24%28%60%3Cdiv%20id%3D%22html_16f9dd17e6714cedb76e1461fc7a2681%22%20style%3D%22width%3A%20100.0%25%3B%20height%3A%20100.0%25%3B%22%3ESan%20Antero%20Total%20de%20Murcielagos%20Recolectados%3A%20%2023%20Especie%20m%C3%A1s%20Com%C3%BAn%3A%20%20Artibeus%20planirostris%20Sexo%20m%C3%A1s%20Com%C3%BAn%3A%20%20Macho%3C/div%3E%60%29%5B0%5D%3B%0A%20%20%20%20%20%20%20%20%20%20%20%20%20%20%20%20popup_0952b65e81f949148d500ce8ef2525e2.setContent%28html_16f9dd17e6714cedb76e1461fc7a2681%29%3B%0A%20%20%20%20%20%20%20%20%20%20%20%20%0A%0A%20%20%20%20%20%20%20%20%20%20%20%20circle_60dd8bb3ea704ad086f44bc3398b3902.bindPopup%28popup_0952b65e81f949148d500ce8ef2525e2%29%0A%20%20%20%20%20%20%20%20%20%20%20%20%3B%0A%0A%20%20%20%20%20%20%20%20%20%20%20%20%0A%20%20%20%20%20%20%20%20%0A%20%20%20%20%0A%0A%20%20%20%20%20%20%20%20%20%20%20%20var%20circle_9e5f7dccf3584790b140da669a49e1cd%20%3D%20L.circle%28%0A%20%20%20%20%20%20%20%20%20%20%20%20%20%20%20%20%5B8.1717342%2C%20-76.059376%5D%2C%0A%20%20%20%20%20%20%20%20%20%20%20%20%20%20%20%20%7B%0A%20%20%22bubblingMouseEvents%22%3A%20true%2C%0A%20%20%22color%22%3A%20%22purple%22%2C%0A%20%20%22dashArray%22%3A%20null%2C%0A%20%20%22dashOffset%22%3A%20null%2C%0A%20%20%22fill%22%3A%20true%2C%0A%20%20%22fillColor%22%3A%20%22purple%22%2C%0A%20%20%22fillOpacity%22%3A%200.2%2C%0A%20%20%22fillRule%22%3A%20%22evenodd%22%2C%0A%20%20%22lineCap%22%3A%20%22round%22%2C%0A%20%20%22lineJoin%22%3A%20%22round%22%2C%0A%20%20%22opacity%22%3A%201.0%2C%0A%20%20%22radius%22%3A%209200.0%2C%0A%20%20%22stroke%22%3A%20true%2C%0A%20%20%22weight%22%3A%203%0A%7D%0A%20%20%20%20%20%20%20%20%20%20%20%20%20%20%20%20%29%0A%20%20%20%20%20%20%20%20%20%20%20%20%20%20%20%20.addTo%28map_596b331ee7bd4438a9b440960905d4d4%29%3B%0A%20%20%20%20%20%20%20%20%20%20%20%20%0A%20%20%20%20%0A%20%20%20%20%20%20%20%20%20%20%20%20var%20popup_8445c76d742940d2ad8e9f0a5aeeaf9d%20%3D%20L.popup%28%7BmaxWidth%3A%20%27100%25%27%0A%20%20%20%20%20%20%20%20%20%20%20%20%0A%20%20%20%20%20%20%20%20%20%20%20%20%7D%29%3B%0A%0A%20%20%20%20%20%20%20%20%20%20%20%20%0A%20%20%20%20%20%20%20%20%20%20%20%20%20%20%20%20var%20html_5145b56f5c9343efa7a146b76e88ed4e%20%3D%20%24%28%60%3Cdiv%20id%3D%22html_5145b56f5c9343efa7a146b76e88ed4e%22%20style%3D%22width%3A%20100.0%25%3B%20height%3A%20100.0%25%3B%22%3ETierralta%20Total%20de%20Murcielagos%20Recolectados%3A%20%2023%20Especie%20m%C3%A1s%20Com%C3%BAn%3A%20%20Artibeus%20planirostris%20Sexo%20m%C3%A1s%20Com%C3%BAn%3A%20%20Macho%3C/div%3E%60%29%5B0%5D%3B%0A%20%20%20%20%20%20%20%20%20%20%20%20%20%20%20%20popup_8445c76d742940d2ad8e9f0a5aeeaf9d.setContent%28html_5145b56f5c9343efa7a146b76e88ed4e%29%3B%0A%20%20%20%20%20%20%20%20%20%20%20%20%0A%0A%20%20%20%20%20%20%20%20%20%20%20%20circle_9e5f7dccf3584790b140da669a49e1cd.bindPopup%28popup_8445c76d742940d2ad8e9f0a5aeeaf9d%29%0A%20%20%20%20%20%20%20%20%20%20%20%20%3B%0A%0A%20%20%20%20%20%20%20%20%20%20%20%20%0A%20%20%20%20%20%20%20%20%0A%3C/script%3E onload=\"this.contentDocument.open();this.contentDocument.write(    decodeURIComponent(this.getAttribute('data-html')));this.contentDocument.close();\" \"allowfullscreen\" \"webkitallowfullscreen\" \"mozallowfullscreen\"></iframe>"
            ],
            "text/plain": [
              "<branca.element.Figure at 0x7f2813d42610>"
            ]
          },
          "metadata": {
            "tags": []
          },
          "execution_count": 23
        }
      ]
    }
  ]
}